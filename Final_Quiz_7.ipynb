{
  "nbformat": 4,
  "nbformat_minor": 0,
  "metadata": {
    "colab": {
      "name": "Final Quiz 7.ipynb",
      "version": "0.3.2",
      "provenance": [],
      "collapsed_sections": [],
      "include_colab_link": true
    },
    "kernelspec": {
      "name": "python3",
      "display_name": "Python 3"
    },
    "accelerator": "GPU"
  },
  "cells": [
    {
      "cell_type": "markdown",
      "metadata": {
        "id": "view-in-github",
        "colab_type": "text"
      },
      "source": [
        "<a href=\"https://colab.research.google.com/github/rashidmeras/EVA-M6/blob/master/Final_Quiz_7.ipynb\" target=\"_parent\"><img src=\"https://colab.research.google.com/assets/colab-badge.svg\" alt=\"Open In Colab\"/></a>"
      ]
    },
    {
      "cell_type": "markdown",
      "metadata": {
        "id": "aNyZv-Ec52ot",
        "colab_type": "text"
      },
      "source": [
        "# **Import Libraries and modules**"
      ]
    },
    {
      "cell_type": "code",
      "metadata": {
        "id": "3m3w1Cw49Zkt",
        "colab_type": "code",
        "outputId": "b519c0c6-22ce-436c-9ab9-c3339e93ee65",
        "colab": {
          "base_uri": "https://localhost:8080/",
          "height": 51
        }
      },
      "source": [
        "# https://keras.io/\n",
        "!pip install -q keras\n",
        "import keras\n",
        "import datetime\n",
        "print(datetime.datetime.now())"
      ],
      "execution_count": 1,
      "outputs": [
        {
          "output_type": "stream",
          "text": [
            "Using TensorFlow backend.\n"
          ],
          "name": "stderr"
        },
        {
          "output_type": "stream",
          "text": [
            "2019-06-12 06:33:02.754825\n"
          ],
          "name": "stdout"
        }
      ]
    },
    {
      "cell_type": "code",
      "metadata": {
        "id": "Eso6UHE080D4",
        "colab_type": "code",
        "outputId": "019abad2-f12c-45bf-cddd-e70f07014289",
        "colab": {
          "base_uri": "https://localhost:8080/",
          "height": 34
        }
      },
      "source": [
        "import numpy as np\n",
        "\n",
        "from keras.models import Sequential\n",
        "from keras.layers import Dense, Dropout, Activation, Flatten, Add\n",
        "from keras.layers import Convolution2D, MaxPooling2D\n",
        "from keras.utils import np_utils\n",
        "\n",
        "from keras.datasets import mnist\n",
        "print(datetime.datetime.now())"
      ],
      "execution_count": 2,
      "outputs": [
        {
          "output_type": "stream",
          "text": [
            "2019-06-12 06:33:02.765528\n"
          ],
          "name": "stdout"
        }
      ]
    },
    {
      "cell_type": "markdown",
      "metadata": {
        "id": "zByEi95J86RD",
        "colab_type": "text"
      },
      "source": [
        "### Load pre-shuffled MNIST data into train and test sets"
      ]
    },
    {
      "cell_type": "code",
      "metadata": {
        "id": "7eRM0QWN83PV",
        "colab_type": "code",
        "outputId": "817bd7cb-8e5b-4e83-88c9-d9807e807dd0",
        "colab": {
          "base_uri": "https://localhost:8080/",
          "height": 68
        }
      },
      "source": [
        "(X_train, y_train), (X_test, y_test) = mnist.load_data()\n",
        "print(datetime.datetime.now())"
      ],
      "execution_count": 3,
      "outputs": [
        {
          "output_type": "stream",
          "text": [
            "Downloading data from https://s3.amazonaws.com/img-datasets/mnist.npz\n",
            "11493376/11490434 [==============================] - 1s 0us/step\n",
            "2019-06-12 06:33:04.304358\n"
          ],
          "name": "stdout"
        }
      ]
    },
    {
      "cell_type": "code",
      "metadata": {
        "id": "4a4Be72j8-ZC",
        "colab_type": "code",
        "outputId": "66c403d2-bc29-470b-dd56-51fadbfd363d",
        "colab": {
          "base_uri": "https://localhost:8080/",
          "height": 303
        }
      },
      "source": [
        "print (X_train.shape)\n",
        "from matplotlib import pyplot as plt\n",
        "%matplotlib inline\n",
        "plt.imshow(X_train[0])\n",
        "print(datetime.datetime.now())"
      ],
      "execution_count": 4,
      "outputs": [
        {
          "output_type": "stream",
          "text": [
            "(60000, 28, 28)\n",
            "2019-06-12 06:33:04.338214\n"
          ],
          "name": "stdout"
        },
        {
          "output_type": "display_data",
          "data": {
            "image/png": "[encoded data removed]",
            "text/plain": [
              "<Figure size 432x288 with 1 Axes>"
            ]
          },
          "metadata": {
            "tags": []
          }
        }
      ]
    },
    {
      "cell_type": "code",
      "metadata": {
        "id": "dkmprriw9AnZ",
        "colab_type": "code",
        "outputId": "621a9bf8-9bf6-4d71-ed20-a62400e6b95b",
        "colab": {
          "base_uri": "https://localhost:8080/",
          "height": 34
        }
      },
      "source": [
        "X_train = X_train.reshape(X_train.shape[0], 28, 28,1)\n",
        "X_test = X_test.reshape(X_test.shape[0], 28, 28,1)\n",
        "print(datetime.datetime.now())"
      ],
      "execution_count": 5,
      "outputs": [
        {
          "output_type": "stream",
          "text": [
            "2019-06-12 06:33:07.458753\n"
          ],
          "name": "stdout"
        }
      ]
    },
    {
      "cell_type": "code",
      "metadata": {
        "id": "X2m4YS4E9CRh",
        "colab_type": "code",
        "outputId": "adba812e-f462-4882-8693-302fd7db6a52",
        "colab": {
          "base_uri": "https://localhost:8080/",
          "height": 34
        }
      },
      "source": [
        "X_train = X_train.astype('float32')\n",
        "X_test = X_test.astype('float32')\n",
        "X_train /= 255\n",
        "X_test /= 255\n",
        "print(datetime.datetime.now())"
      ],
      "execution_count": 6,
      "outputs": [
        {
          "output_type": "stream",
          "text": [
            "2019-06-12 06:33:09.092168\n"
          ],
          "name": "stdout"
        }
      ]
    },
    {
      "cell_type": "code",
      "metadata": {
        "id": "0Mn0vAYD9DvB",
        "colab_type": "code",
        "outputId": "7088770d-c771-47f2-e7c3-cc46e05ceced",
        "colab": {
          "base_uri": "https://localhost:8080/",
          "height": 34
        }
      },
      "source": [
        "y_train[:10]\n",
        "print(datetime.datetime.now())"
      ],
      "execution_count": 7,
      "outputs": [
        {
          "output_type": "stream",
          "text": [
            "2019-06-12 06:33:10.652828\n"
          ],
          "name": "stdout"
        }
      ]
    },
    {
      "cell_type": "code",
      "metadata": {
        "id": "ZG8JiXR39FHC",
        "colab_type": "code",
        "outputId": "56a4c855-8536-4b92-ee84-1c9d9bc36ec0",
        "colab": {
          "base_uri": "https://localhost:8080/",
          "height": 34
        }
      },
      "source": [
        "# Convert 1-dimensional class arrays to 10-dimensional class matrices\n",
        "Y_train = np_utils.to_categorical(y_train, 10)\n",
        "Y_test = np_utils.to_categorical(y_test, 10)\n",
        "print(datetime.datetime.now())"
      ],
      "execution_count": 8,
      "outputs": [
        {
          "output_type": "stream",
          "text": [
            "2019-06-12 06:33:12.097819\n"
          ],
          "name": "stdout"
        }
      ]
    },
    {
      "cell_type": "code",
      "metadata": {
        "id": "fYlFRvKS9HMB",
        "colab_type": "code",
        "outputId": "7d27f32e-3236-46c6-d091-b2c2f8b02720",
        "colab": {
          "base_uri": "https://localhost:8080/",
          "height": 34
        }
      },
      "source": [
        "Y_train[:10]\n",
        "print(datetime.datetime.now())"
      ],
      "execution_count": 9,
      "outputs": [
        {
          "output_type": "stream",
          "text": [
            "2019-06-12 06:33:13.989242\n"
          ],
          "name": "stdout"
        }
      ]
    },
    {
      "cell_type": "markdown",
      "metadata": {
        "id": "3Lw-lEPl7btW",
        "colab_type": "text"
      },
      "source": [
        "## Using Sequential"
      ]
    },
    {
      "cell_type": "code",
      "metadata": {
        "id": "7zsqE7tEwPjZ",
        "colab_type": "code",
        "outputId": "9be92ef4-aa14-435d-c00a-27fcef7cec60",
        "colab": {
          "base_uri": "https://localhost:8080/",
          "height": 360
        }
      },
      "source": [
        "## MAIN BLOCK\n",
        "\n",
        "from keras.layers import Activation\n",
        "from keras.models import Model\n",
        "from keras.layers import Input\n",
        "from keras.layers.merge import concatenate\n",
        "\n",
        "model = Sequential()\n",
        " \n",
        "model.add(Convolution2D(32, 3, 3, activation='relu', input_shape=(28,28,1)))\n",
        "model.add(Convolution2D(10, 1, activation='relu'))\n",
        "model.add(Convolution2D(10, 26))\n",
        "model.add(Flatten())\n",
        "model.add(Activation('softmax'))\n",
        "model.summary()"
      ],
      "execution_count": 11,
      "outputs": [
        {
          "output_type": "stream",
          "text": [
            "_________________________________________________________________\n",
            "Layer (type)                 Output Shape              Param #   \n",
            "=================================================================\n",
            "conv2d_4 (Conv2D)            (None, 26, 26, 32)        320       \n",
            "_________________________________________________________________\n",
            "conv2d_5 (Conv2D)            (None, 26, 26, 10)        330       \n",
            "_________________________________________________________________\n",
            "conv2d_6 (Conv2D)            (None, 1, 1, 10)          67610     \n",
            "_________________________________________________________________\n",
            "flatten_2 (Flatten)          (None, 10)                0         \n",
            "_________________________________________________________________\n",
            "activation_2 (Activation)    (None, 10)                0         \n",
            "=================================================================\n",
            "Total params: 68,260\n",
            "Trainable params: 68,260\n",
            "Non-trainable params: 0\n",
            "_________________________________________________________________\n"
          ],
          "name": "stdout"
        },
        {
          "output_type": "stream",
          "text": [
            "/usr/local/lib/python3.6/dist-packages/ipykernel_launcher.py:9: UserWarning: Update your `Conv2D` call to the Keras 2 API: `Conv2D(32, (3, 3), activation=\"relu\", input_shape=(28, 28, 1...)`\n",
            "  if __name__ == '__main__':\n"
          ],
          "name": "stderr"
        }
      ]
    },
    {
      "cell_type": "markdown",
      "metadata": {
        "id": "JUeZj3Hr7K07",
        "colab_type": "text"
      },
      "source": [
        "## Using Functional and Add() "
      ]
    },
    {
      "cell_type": "code",
      "metadata": {
        "id": "dzc0WimUuOal",
        "colab_type": "code",
        "outputId": "31b12570-aa6d-4300-a26c-00ce61497b30",
        "colab": {
          "base_uri": "https://localhost:8080/",
          "height": 1054
        }
      },
      "source": [
        "## MAIN BLOCK\n",
        "\n",
        "from keras.layers import Activation\n",
        "from keras.models import Model\n",
        "from keras.layers import Input\n",
        "from keras.layers.merge import concatenate\n",
        "\n",
        "# x1 = Input  \n",
        "x1 = Input(shape=(28, 28, 1))\n",
        "\n",
        "# x2 = Conv(x1)\n",
        "x2 = Convolution2D(32, (3,3), activation='relu', padding='same', name='X2_Conv')(x1)\n",
        "\n",
        "# x3 = Conv(x1 + x2)\n",
        "x3i = Add()([x1, x2])\n",
        "x3  = Convolution2D(32, (3,3), activation='relu', padding='same', name='X3_Conv')(x3i)\n",
        "\n",
        "# x4 = MaxPooling(x1 + x2 + x3)\n",
        "x4i = Add()([x1, x2, x3])\n",
        "x4  = MaxPooling2D(pool_size=(2, 2)) (x4i)\n",
        "\n",
        "# x5 = Conv(x4)\n",
        "x5 = Convolution2D(32, (3,3), activation='relu', padding='same', name='X5_Conv')(x4)\n",
        "\n",
        "# x6 = Conv(x4 + x5)\n",
        "x6i = Add()([x4, x5])\n",
        "x6  = Convolution2D(32, (3,3), activation='relu', padding='same', name='X6_Conv')(x6i)\n",
        "\n",
        "# x7 = Conv(x4 + x5 + x6)\n",
        "x7i = Add()([x4, x5, x6])\n",
        "x7  = Convolution2D(32, (3,3), activation='relu', padding='same', name='X7_Conv')(x7i)\n",
        "\n",
        "# x8 = MaxPooling(x5 + x6 + x7)\n",
        "x8i = Add()([x5, x6, x7])\n",
        "x8  = MaxPooling2D(pool_size=(2, 2)) (x8i)\n",
        "\n",
        "# x9 = Conv(x8)\n",
        "x9 = Convolution2D(32, (3,3), activation='relu', padding='same', name='X9_Conv')(x8)\n",
        "\n",
        "# x10 = Conv (x8 + x9)\n",
        "x10i = Add()([x8, x9])\n",
        "x10  = Convolution2D(32, (3,3), activation='relu', padding='same', name='X10_Conv')(x10i)\n",
        "\n",
        "# x11 = Conv (x8 + x9 + x10)\n",
        "x11i = Add()([x8, x9, x10])\n",
        "x11  = Convolution2D(32, (3,3), activation='relu', padding='same', name='X11_Conv')(x11i)\n",
        "\n",
        "# BIG KERNEL Operation (use a large kernel size (10 units), if required at this step to be able to add softmax in the next layer)\n",
        "x12 = Convolution2D(10, (7,7), name='X12_Conv')(x11)\n",
        "\n",
        "flat_layer = Flatten()(x12)\n",
        "output     = Activation('softmax')(flat_layer)\n",
        "\n",
        "model = Model(inputs=[x1], outputs=[output])\n",
        "model.summary()\n",
        "\n",
        "print(datetime.datetime.now())"
      ],
      "execution_count": 12,
      "outputs": [
        {
          "output_type": "stream",
          "text": [
            "__________________________________________________________________________________________________\n",
            "Layer (type)                    Output Shape         Param #     Connected to                     \n",
            "==================================================================================================\n",
            "input_1 (InputLayer)            (None, 28, 28, 1)    0                                            \n",
            "__________________________________________________________________________________________________\n",
            "X2_Conv (Conv2D)                (None, 28, 28, 32)   320         input_1[0][0]                    \n",
            "__________________________________________________________________________________________________\n",
            "add_1 (Add)                     (None, 28, 28, 32)   0           input_1[0][0]                    \n",
            "                                                                 X2_Conv[0][0]                    \n",
            "__________________________________________________________________________________________________\n",
            "X3_Conv (Conv2D)                (None, 28, 28, 32)   9248        add_1[0][0]                      \n",
            "__________________________________________________________________________________________________\n",
            "add_2 (Add)                     (None, 28, 28, 32)   0           input_1[0][0]                    \n",
            "                                                                 X2_Conv[0][0]                    \n",
            "                                                                 X3_Conv[0][0]                    \n",
            "__________________________________________________________________________________________________\n",
            "max_pooling2d_1 (MaxPooling2D)  (None, 14, 14, 32)   0           add_2[0][0]                      \n",
            "__________________________________________________________________________________________________\n",
            "X5_Conv (Conv2D)                (None, 14, 14, 32)   9248        max_pooling2d_1[0][0]            \n",
            "__________________________________________________________________________________________________\n",
            "add_3 (Add)                     (None, 14, 14, 32)   0           max_pooling2d_1[0][0]            \n",
            "                                                                 X5_Conv[0][0]                    \n",
            "__________________________________________________________________________________________________\n",
            "X6_Conv (Conv2D)                (None, 14, 14, 32)   9248        add_3[0][0]                      \n",
            "__________________________________________________________________________________________________\n",
            "add_4 (Add)                     (None, 14, 14, 32)   0           max_pooling2d_1[0][0]            \n",
            "                                                                 X5_Conv[0][0]                    \n",
            "                                                                 X6_Conv[0][0]                    \n",
            "__________________________________________________________________________________________________\n",
            "X7_Conv (Conv2D)                (None, 14, 14, 32)   9248        add_4[0][0]                      \n",
            "__________________________________________________________________________________________________\n",
            "add_5 (Add)                     (None, 14, 14, 32)   0           X5_Conv[0][0]                    \n",
            "                                                                 X6_Conv[0][0]                    \n",
            "                                                                 X7_Conv[0][0]                    \n",
            "__________________________________________________________________________________________________\n",
            "max_pooling2d_2 (MaxPooling2D)  (None, 7, 7, 32)     0           add_5[0][0]                      \n",
            "__________________________________________________________________________________________________\n",
            "X9_Conv (Conv2D)                (None, 7, 7, 32)     9248        max_pooling2d_2[0][0]            \n",
            "__________________________________________________________________________________________________\n",
            "add_6 (Add)                     (None, 7, 7, 32)     0           max_pooling2d_2[0][0]            \n",
            "                                                                 X9_Conv[0][0]                    \n",
            "__________________________________________________________________________________________________\n",
            "X10_Conv (Conv2D)               (None, 7, 7, 32)     9248        add_6[0][0]                      \n",
            "__________________________________________________________________________________________________\n",
            "add_7 (Add)                     (None, 7, 7, 32)     0           max_pooling2d_2[0][0]            \n",
            "                                                                 X9_Conv[0][0]                    \n",
            "                                                                 X10_Conv[0][0]                   \n",
            "__________________________________________________________________________________________________\n",
            "X11_Conv (Conv2D)               (None, 7, 7, 32)     9248        add_7[0][0]                      \n",
            "__________________________________________________________________________________________________\n",
            "X12_Conv (Conv2D)               (None, 1, 1, 10)     15690       X11_Conv[0][0]                   \n",
            "__________________________________________________________________________________________________\n",
            "flatten_3 (Flatten)             (None, 10)           0           X12_Conv[0][0]                   \n",
            "__________________________________________________________________________________________________\n",
            "activation_3 (Activation)       (None, 10)           0           flatten_3[0][0]                  \n",
            "==================================================================================================\n",
            "Total params: 80,746\n",
            "Trainable params: 80,746\n",
            "Non-trainable params: 0\n",
            "__________________________________________________________________________________________________\n",
            "2019-06-12 06:33:54.048554\n"
          ],
          "name": "stdout"
        }
      ]
    },
    {
      "cell_type": "markdown",
      "metadata": {
        "id": "j0RX4vc-7xB4",
        "colab_type": "text"
      },
      "source": [
        "## Using Functional and Concatenate"
      ]
    },
    {
      "cell_type": "code",
      "metadata": {
        "id": "osKqT73Q9JJB",
        "colab_type": "code",
        "colab": {}
      },
      "source": [
        "## MAIN BLOCK\n",
        "\n",
        "from keras.layers import Activation\n",
        "from keras.models import Model\n",
        "from keras.layers import Input\n",
        "from keras.layers.merge import concatenate\n",
        "  \n",
        "# x1 = Input  \n",
        "x1 = Input(shape=(28, 28, 1))\n",
        "\n",
        "# x2 = Conv(x1)\n",
        "x2 = Convolution2D(32, (3,3), activation='relu', padding='same', name='X2_Conv')(x1)\n",
        "\n",
        "# x3 = Conv(x1 + x2)\n",
        "x3i = concatenate([x1, x2], axis=-1)\n",
        "x3 = Convolution2D(32, (3,3), activation='relu', padding='same', name='X3_Conv')(x3i)\n",
        "\n",
        "# x4 = MaxPooling(x1 + x2 + x3)\n",
        "x4i = concatenate([x1, x2, x3], axis=-1)\n",
        "x4 = MaxPooling2D(pool_size=(2, 2)) (x4i)\n",
        "\n",
        "# x5 = Conv(x4)\n",
        "x5 = Convolution2D(32, (3,3), activation='relu', padding='same', name='X5_Conv')(x4)\n",
        "\n",
        "# x6 = Conv(x4 + x5)\n",
        "x6i = concatenate([x4, x5], axis=-1)\n",
        "x6 = Convolution2D(32, (3,3), activation='relu', padding='same', name='X6_Conv')(x6i)\n",
        "\n",
        "# x7 = Conv(x4 + x5 + x6)\n",
        "x7i = concatenate([x4, x5, x6], axis=-1)\n",
        "x7 = Convolution2D(32, (3,3), activation='relu', padding='same', name='X7_Conv')(x7i)\n",
        "\n",
        "# x8 = MaxPooling(x5 + x6 + x7)\n",
        "x8i = concatenate([x5, x6, x7], axis=-1)\n",
        "x8 = MaxPooling2D(pool_size=(2, 2)) (x8i)\n",
        "\n",
        "# x9 = Conv(x8)\n",
        "x9 = Convolution2D(32, (3,3), activation='relu', padding='same', name='X9_Conv')(x8)\n",
        "\n",
        "# x10 = Conv (x8 + x9)\n",
        "x10i = concatenate([x8, x9], axis=-1)\n",
        "x10 = Convolution2D(32, (3,3), activation='relu', padding='same', name='X10_Conv')(x10i)\n",
        "\n",
        "# x11 = Conv (x8 + x9 + x10)\n",
        "x11i = concatenate([x8, x9, x10], axis=-1)\n",
        "x11 = Convolution2D(32, (3,3), activation='relu', padding='same', name='X11_Conv')(x11i)\n",
        "\n",
        "# BIG KERNEL Operation (use a large kernel size (10 units), if required at this step to be able to add softmax in the next layer)\n",
        "x12 = Convolution2D(10, (7,7), name='X12_Conv')(x11)\n",
        "\n",
        "flat_layer = Flatten()(x12)\n",
        "output = Activation('softmax')(flat_layer)\n",
        "\n",
        "model = Model(inputs=[x1], outputs=[output])\n"
      ],
      "execution_count": 0,
      "outputs": []
    },
    {
      "cell_type": "code",
      "metadata": {
        "id": "TzdAYg1k9K7Z",
        "colab_type": "code",
        "outputId": "64147da3-0521-4ae4-8227-6868921cd9e1",
        "colab": {
          "base_uri": "https://localhost:8080/",
          "height": 1054
        }
      },
      "source": [
        "model.summary()\n",
        "\n",
        "print(datetime.datetime.now())"
      ],
      "execution_count": 14,
      "outputs": [
        {
          "output_type": "stream",
          "text": [
            "__________________________________________________________________________________________________\n",
            "Layer (type)                    Output Shape         Param #     Connected to                     \n",
            "==================================================================================================\n",
            "input_2 (InputLayer)            (None, 28, 28, 1)    0                                            \n",
            "__________________________________________________________________________________________________\n",
            "X2_Conv (Conv2D)                (None, 28, 28, 32)   320         input_2[0][0]                    \n",
            "__________________________________________________________________________________________________\n",
            "concatenate_1 (Concatenate)     (None, 28, 28, 33)   0           input_2[0][0]                    \n",
            "                                                                 X2_Conv[0][0]                    \n",
            "__________________________________________________________________________________________________\n",
            "X3_Conv (Conv2D)                (None, 28, 28, 32)   9536        concatenate_1[0][0]              \n",
            "__________________________________________________________________________________________________\n",
            "concatenate_2 (Concatenate)     (None, 28, 28, 65)   0           input_2[0][0]                    \n",
            "                                                                 X2_Conv[0][0]                    \n",
            "                                                                 X3_Conv[0][0]                    \n",
            "__________________________________________________________________________________________________\n",
            "max_pooling2d_3 (MaxPooling2D)  (None, 14, 14, 65)   0           concatenate_2[0][0]              \n",
            "__________________________________________________________________________________________________\n",
            "X5_Conv (Conv2D)                (None, 14, 14, 32)   18752       max_pooling2d_3[0][0]            \n",
            "__________________________________________________________________________________________________\n",
            "concatenate_3 (Concatenate)     (None, 14, 14, 97)   0           max_pooling2d_3[0][0]            \n",
            "                                                                 X5_Conv[0][0]                    \n",
            "__________________________________________________________________________________________________\n",
            "X6_Conv (Conv2D)                (None, 14, 14, 32)   27968       concatenate_3[0][0]              \n",
            "__________________________________________________________________________________________________\n",
            "concatenate_4 (Concatenate)     (None, 14, 14, 129)  0           max_pooling2d_3[0][0]            \n",
            "                                                                 X5_Conv[0][0]                    \n",
            "                                                                 X6_Conv[0][0]                    \n",
            "__________________________________________________________________________________________________\n",
            "X7_Conv (Conv2D)                (None, 14, 14, 32)   37184       concatenate_4[0][0]              \n",
            "__________________________________________________________________________________________________\n",
            "concatenate_5 (Concatenate)     (None, 14, 14, 96)   0           X5_Conv[0][0]                    \n",
            "                                                                 X6_Conv[0][0]                    \n",
            "                                                                 X7_Conv[0][0]                    \n",
            "__________________________________________________________________________________________________\n",
            "max_pooling2d_4 (MaxPooling2D)  (None, 7, 7, 96)     0           concatenate_5[0][0]              \n",
            "__________________________________________________________________________________________________\n",
            "X9_Conv (Conv2D)                (None, 7, 7, 32)     27680       max_pooling2d_4[0][0]            \n",
            "__________________________________________________________________________________________________\n",
            "concatenate_6 (Concatenate)     (None, 7, 7, 128)    0           max_pooling2d_4[0][0]            \n",
            "                                                                 X9_Conv[0][0]                    \n",
            "__________________________________________________________________________________________________\n",
            "X10_Conv (Conv2D)               (None, 7, 7, 32)     36896       concatenate_6[0][0]              \n",
            "__________________________________________________________________________________________________\n",
            "concatenate_7 (Concatenate)     (None, 7, 7, 160)    0           max_pooling2d_4[0][0]            \n",
            "                                                                 X9_Conv[0][0]                    \n",
            "                                                                 X10_Conv[0][0]                   \n",
            "__________________________________________________________________________________________________\n",
            "X11_Conv (Conv2D)               (None, 7, 7, 32)     46112       concatenate_7[0][0]              \n",
            "__________________________________________________________________________________________________\n",
            "X12_Conv (Conv2D)               (None, 1, 1, 10)     15690       X11_Conv[0][0]                   \n",
            "__________________________________________________________________________________________________\n",
            "flatten_4 (Flatten)             (None, 10)           0           X12_Conv[0][0]                   \n",
            "__________________________________________________________________________________________________\n",
            "activation_4 (Activation)       (None, 10)           0           flatten_4[0][0]                  \n",
            "==================================================================================================\n",
            "Total params: 220,138\n",
            "Trainable params: 220,138\n",
            "Non-trainable params: 0\n",
            "__________________________________________________________________________________________________\n",
            "2019-06-12 06:34:24.152547\n"
          ],
          "name": "stdout"
        }
      ]
    },
    {
      "cell_type": "code",
      "metadata": {
        "id": "Zp6SuGrL9M3h",
        "colab_type": "code",
        "outputId": "7fc01933-c051-465d-c1a3-f7b07ffa6b00",
        "colab": {
          "base_uri": "https://localhost:8080/",
          "height": 34
        }
      },
      "source": [
        "model.compile(loss='categorical_crossentropy',\n",
        "             optimizer='adam',\n",
        "             metrics=['accuracy'])\n",
        "print(datetime.datetime.now())"
      ],
      "execution_count": 15,
      "outputs": [
        {
          "output_type": "stream",
          "text": [
            "2019-06-12 06:34:29.308789\n"
          ],
          "name": "stdout"
        }
      ]
    },
    {
      "cell_type": "code",
      "metadata": {
        "id": "4xWoKhPY9Of5",
        "colab_type": "code",
        "outputId": "66abfbdf-e184-4cd3-cbf5-07828dee7f0a",
        "colab": {
          "base_uri": "https://localhost:8080/",
          "height": 479
        }
      },
      "source": [
        "model.fit(X_train, Y_train, batch_size=32, nb_epoch=10, verbose=1)\n",
        "print(datetime.datetime.now())"
      ],
      "execution_count": 16,
      "outputs": [
        {
          "output_type": "stream",
          "text": [
            "WARNING:tensorflow:From /usr/local/lib/python3.6/dist-packages/tensorflow/python/ops/math_ops.py:3066: to_int32 (from tensorflow.python.ops.math_ops) is deprecated and will be removed in a future version.\n",
            "Instructions for updating:\n",
            "Use tf.cast instead.\n"
          ],
          "name": "stdout"
        },
        {
          "output_type": "stream",
          "text": [
            "/usr/local/lib/python3.6/dist-packages/ipykernel_launcher.py:1: UserWarning: The `nb_epoch` argument in `fit` has been renamed `epochs`.\n",
            "  \"\"\"Entry point for launching an IPython kernel.\n"
          ],
          "name": "stderr"
        },
        {
          "output_type": "stream",
          "text": [
            "Epoch 1/10\n",
            "60000/60000 [==============================] - 20s 339us/step - loss: 0.1049 - acc: 0.9669\n",
            "Epoch 2/10\n",
            "60000/60000 [==============================] - 15s 250us/step - loss: 0.0376 - acc: 0.9883\n",
            "Epoch 3/10\n",
            "60000/60000 [==============================] - 15s 248us/step - loss: 0.0265 - acc: 0.9915\n",
            "Epoch 4/10\n",
            "60000/60000 [==============================] - 15s 248us/step - loss: 0.0219 - acc: 0.9932\n",
            "Epoch 5/10\n",
            "60000/60000 [==============================] - 15s 248us/step - loss: 0.0164 - acc: 0.9948\n",
            "Epoch 6/10\n",
            "60000/60000 [==============================] - 15s 247us/step - loss: 0.0124 - acc: 0.9964\n",
            "Epoch 7/10\n",
            "60000/60000 [==============================] - 15s 246us/step - loss: 0.0124 - acc: 0.9960\n",
            "Epoch 8/10\n",
            "60000/60000 [==============================] - 15s 245us/step - loss: 0.0096 - acc: 0.9968\n",
            "Epoch 9/10\n",
            "60000/60000 [==============================] - 15s 248us/step - loss: 0.0097 - acc: 0.9970\n",
            "Epoch 10/10\n",
            "60000/60000 [==============================] - 15s 252us/step - loss: 0.0079 - acc: 0.9975\n",
            "2019-06-12 06:37:06.410304\n"
          ],
          "name": "stdout"
        }
      ]
    },
    {
      "cell_type": "code",
      "metadata": {
        "id": "AtsH-lLk-eLb",
        "colab_type": "code",
        "outputId": "bac5e3b6-89e5-4868-d04e-a6f4685322ae",
        "colab": {
          "base_uri": "https://localhost:8080/",
          "height": 34
        }
      },
      "source": [
        "score = model.evaluate(X_test, Y_test, verbose=0)\n",
        "print(datetime.datetime.now())"
      ],
      "execution_count": 17,
      "outputs": [
        {
          "output_type": "stream",
          "text": [
            "2019-06-12 06:37:16.527359\n"
          ],
          "name": "stdout"
        }
      ]
    },
    {
      "cell_type": "code",
      "metadata": {
        "id": "mkX8JMv79q9r",
        "colab_type": "code",
        "outputId": "e31a379d-199e-49af-ea89-315678338384",
        "colab": {
          "base_uri": "https://localhost:8080/",
          "height": 51
        }
      },
      "source": [
        "print(score)\n",
        "print(datetime.datetime.now())"
      ],
      "execution_count": 18,
      "outputs": [
        {
          "output_type": "stream",
          "text": [
            "[0.029596074548431807, 0.9918]\n",
            "2019-06-12 06:37:19.677694\n"
          ],
          "name": "stdout"
        }
      ]
    }
  ]
}