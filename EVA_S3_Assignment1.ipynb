{
  "nbformat": 4,
  "nbformat_minor": 0,
  "metadata": {
    "colab": {
      "name": "EVA_S3_Assignment1.ipynb",
      "version": "0.3.2",
      "provenance": [],
      "collapsed_sections": [],
      "include_colab_link": true
    },
    "kernelspec": {
      "name": "python3",
      "display_name": "Python 3"
    },
    "accelerator": "GPU"
  },
  "cells": [
    {
      "cell_type": "markdown",
      "metadata": {
        "id": "view-in-github",
        "colab_type": "text"
      },
      "source": [
        "<a href=\"https://colab.research.google.com/github/rashidmeras/EVA-M6/blob/master/EVA_S3_Assignment1.ipynb\" target=\"_parent\"><img src=\"https://colab.research.google.com/assets/colab-badge.svg\" alt=\"Open In Colab\"/></a>"
      ]
    },
    {
      "cell_type": "markdown",
      "metadata": {
        "id": "aNyZv-Ec52ot",
        "colab_type": "text"
      },
      "source": [
        "# **Import Libraries and modules**"
      ]
    },
    {
      "cell_type": "code",
      "metadata": {
        "id": "3m3w1Cw49Zkt",
        "colab_type": "code",
        "colab": {
          "base_uri": "https://localhost:8080/",
          "height": 34
        },
        "outputId": "0123c2e1-9de2-44f3-9ebd-cec74e737ae6"
      },
      "source": [
        "# https://keras.io/\n",
        "!pip install -q keras\n",
        "import keras"
      ],
      "execution_count": 1,
      "outputs": [
        {
          "output_type": "stream",
          "text": [
            "Using TensorFlow backend.\n"
          ],
          "name": "stderr"
        }
      ]
    },
    {
      "cell_type": "code",
      "metadata": {
        "id": "Eso6UHE080D4",
        "colab_type": "code",
        "colab": {}
      },
      "source": [
        "import numpy as np\n",
        "\n",
        "from keras.models import Sequential\n",
        "from keras.layers import Dense, Dropout, Activation, Flatten, Add, BatchNormalization\n",
        "from keras.layers import Convolution2D, MaxPooling2D\n",
        "from keras.utils import np_utils\n",
        "\n",
        "from keras.datasets import mnist"
      ],
      "execution_count": 0,
      "outputs": []
    },
    {
      "cell_type": "markdown",
      "metadata": {
        "id": "zByEi95J86RD",
        "colab_type": "text"
      },
      "source": [
        "### Load pre-shuffled MNIST data into train and test sets"
      ]
    },
    {
      "cell_type": "code",
      "metadata": {
        "id": "7eRM0QWN83PV",
        "colab_type": "code",
        "colab": {}
      },
      "source": [
        "(X_train, y_train), (X_test, y_test) = mnist.load_data()"
      ],
      "execution_count": 0,
      "outputs": []
    },
    {
      "cell_type": "code",
      "metadata": {
        "id": "4a4Be72j8-ZC",
        "colab_type": "code",
        "outputId": "750f6039-90cf-45bc-c8de-5feb75dcb763",
        "colab": {
          "base_uri": "https://localhost:8080/",
          "height": 303
        }
      },
      "source": [
        "print (X_train.shape)\n",
        "from matplotlib import pyplot as plt\n",
        "%matplotlib inline\n",
        "plt.imshow(X_train[0])"
      ],
      "execution_count": 4,
      "outputs": [
        {
          "output_type": "stream",
          "text": [
            "(60000, 28, 28)\n"
          ],
          "name": "stdout"
        },
        {
          "output_type": "execute_result",
          "data": {
            "text/plain": [
              "<matplotlib.image.AxesImage at 0x7f153260b898>"
            ]
          },
          "metadata": {
            "tags": []
          },
          "execution_count": 4
        },
        {
          "output_type": "display_data",
          "data": {
            "image/png": "[encoded data removed]",
            "text/plain": [
              "<Figure size 432x288 with 1 Axes>"
            ]
          },
          "metadata": {
            "tags": []
          }
        }
      ]
    },
    {
      "cell_type": "code",
      "metadata": {
        "id": "dkmprriw9AnZ",
        "colab_type": "code",
        "colab": {}
      },
      "source": [
        "X_train = X_train.reshape(X_train.shape[0], 28, 28,1)\n",
        "X_test = X_test.reshape(X_test.shape[0], 28, 28,1)"
      ],
      "execution_count": 0,
      "outputs": []
    },
    {
      "cell_type": "code",
      "metadata": {
        "id": "X2m4YS4E9CRh",
        "colab_type": "code",
        "colab": {}
      },
      "source": [
        "X_train = X_train.astype('float32')\n",
        "X_test = X_test.astype('float32')\n",
        "X_train /= 255\n",
        "X_test /= 255"
      ],
      "execution_count": 0,
      "outputs": []
    },
    {
      "cell_type": "code",
      "metadata": {
        "id": "0Mn0vAYD9DvB",
        "colab_type": "code",
        "outputId": "6b24f4fd-d8e7-43f0-f1a8-5a4aedff8e00",
        "colab": {
          "base_uri": "https://localhost:8080/",
          "height": 34
        }
      },
      "source": [
        "y_train[:10]"
      ],
      "execution_count": 7,
      "outputs": [
        {
          "output_type": "execute_result",
          "data": {
            "text/plain": [
              "array([5, 0, 4, 1, 9, 2, 1, 3, 1, 4], dtype=uint8)"
            ]
          },
          "metadata": {
            "tags": []
          },
          "execution_count": 7
        }
      ]
    },
    {
      "cell_type": "code",
      "metadata": {
        "id": "ZG8JiXR39FHC",
        "colab_type": "code",
        "colab": {}
      },
      "source": [
        "# Convert 1-dimensional class arrays to 10-dimensional class matrices\n",
        "Y_train = np_utils.to_categorical(y_train, 10)\n",
        "Y_test = np_utils.to_categorical(y_test, 10)"
      ],
      "execution_count": 0,
      "outputs": []
    },
    {
      "cell_type": "code",
      "metadata": {
        "id": "fYlFRvKS9HMB",
        "colab_type": "code",
        "outputId": "9481d676-46e8-4982-9e58-aab55000e77b",
        "colab": {
          "base_uri": "https://localhost:8080/",
          "height": 187
        }
      },
      "source": [
        "Y_train[:10]\n"
      ],
      "execution_count": 9,
      "outputs": [
        {
          "output_type": "execute_result",
          "data": {
            "text/plain": [
              "array([[0., 0., 0., 0., 0., 1., 0., 0., 0., 0.],\n",
              "       [1., 0., 0., 0., 0., 0., 0., 0., 0., 0.],\n",
              "       [0., 0., 0., 0., 1., 0., 0., 0., 0., 0.],\n",
              "       [0., 1., 0., 0., 0., 0., 0., 0., 0., 0.],\n",
              "       [0., 0., 0., 0., 0., 0., 0., 0., 0., 1.],\n",
              "       [0., 0., 1., 0., 0., 0., 0., 0., 0., 0.],\n",
              "       [0., 1., 0., 0., 0., 0., 0., 0., 0., 0.],\n",
              "       [0., 0., 0., 1., 0., 0., 0., 0., 0., 0.],\n",
              "       [0., 1., 0., 0., 0., 0., 0., 0., 0., 0.],\n",
              "       [0., 0., 0., 0., 1., 0., 0., 0., 0., 0.]], dtype=float32)"
            ]
          },
          "metadata": {
            "tags": []
          },
          "execution_count": 9
        }
      ]
    },
    {
      "cell_type": "code",
      "metadata": {
        "id": "osKqT73Q9JJB",
        "colab_type": "code",
        "outputId": "32201cae-b08b-41c7-e026-973999fff2af",
        "colab": {
          "base_uri": "https://localhost:8080/",
          "height": 921
        }
      },
      "source": [
        "from keras.layers import Activation\n",
        "model = Sequential()\n",
        "\n",
        " \n",
        "# model.add(Convolution2D(32, 3, 3, activation='relu', input_shape=(28,28,1)))\n",
        "# model.add(Convolution2D(10, 1, activation='relu'))\n",
        "# model.add(Convolution2D(10, 26))\n",
        "# model.add(Flatten())\n",
        "# model.add(Activation('softmax'))\n",
        "\n",
        "#1st attempt Total params: 19,776\n",
        "# model.add(Convolution2D(16, 3, 3, activation='relu', input_shape=(28,28,1)))\n",
        "# model.add(Convolution2D(32, 3, 3, activation='relu'))\n",
        "# model.add(Convolution2D(32, 3, 3, activation='relu'))\n",
        "\n",
        "\n",
        "# model.add(Convolution2D(16, 1, 1, activation='relu'))\n",
        "# model.add(MaxPooling2D(pool_size=(2, 2)))\n",
        "\n",
        "# model.add(Convolution2D(11, 3, 3, activation='relu'))\n",
        "# model.add(Convolution2D(10, 3, 3, activation='relu'))\n",
        "# model.add(Convolution2D(10, 3, 3, activation='relu'))\n",
        "# model.add(Convolution2D(10, 3, 3, activation='relu'))\n",
        "\n",
        "# model.add(BatchNormalization())\n",
        "# model.add(Convolution2D(10, 3, 3))\n",
        "\n",
        "# model.add(Flatten())\n",
        "# model.add(Dropout(0.2))\n",
        "# model.add(BatchNormalization())\n",
        "# model.add(Activation('softmax'))\n",
        "\n",
        "\n",
        "#2nd attempt\n",
        "# model.add(Convolution2D(30, 3, 3, activation='relu', input_shape=(28,28,1)))\n",
        "# model.add(Convolution2D(30, 3, 3, activation='relu'))\n",
        "\n",
        "# model.add(BatchNormalization())\n",
        "# model.add(Convolution2D(16, 1, 1, activation='relu'))\n",
        "# model.add(MaxPooling2D(pool_size=(2, 2)))\n",
        "\n",
        "# model.add(Convolution2D(30, 3, 3, activation='relu'))\n",
        "\n",
        "# model.add(BatchNormalization())\n",
        "# model.add(Convolution2D(20, 1, 1, activation='relu'))\n",
        "# model.add(MaxPooling2D(pool_size=(2, 2)))\n",
        "\n",
        "# model.add(Convolution2D(21, 3, 3, activation='relu'))\n",
        "\n",
        "# model.add(BatchNormalization())\n",
        "# model.add(Convolution2D(10, 3, 3))\n",
        "\n",
        "# model.add(Flatten())\n",
        "# model.add(Dropout(0.2))\n",
        "# model.add(BatchNormalization())\n",
        "# model.add(Activation('softmax'))\n",
        "\n",
        "#3rd attempt\n",
        "# model.add(Convolution2D(30, 3, 3, activation='relu', input_shape=(28,28,1)))\n",
        "\n",
        "# model.add(BatchNormalization())\n",
        "# model.add(Convolution2D(30, 3, 3))\n",
        "# model.add(Activation(\"relu\"))\n",
        "          \n",
        "# model.add(BatchNormalization())          \n",
        "# model.add(Convolution2D(16, 1, 1))\n",
        "# model.add(MaxPooling2D(pool_size=(2, 2)))\n",
        "# model.add(Activation(\"relu\"))          \n",
        "\n",
        "# model.add(BatchNormalization()) \n",
        "# model.add(Convolution2D(30, 3, 3))\n",
        "# model.add(Activation(\"relu\")) \n",
        "\n",
        "# model.add(BatchNormalization())\n",
        "# model.add(Convolution2D(20, 1, 1))\n",
        "# model.add(MaxPooling2D(pool_size=(2, 2)))\n",
        "# model.add(Activation(\"relu\")) \n",
        "\n",
        "# model.add(BatchNormalization())\n",
        "# model.add(Convolution2D(20, 3, 3))\n",
        "# model.add(Activation(\"relu\")) \n",
        "\n",
        "# model.add(BatchNormalization())\n",
        "# model.add(Convolution2D(10, 3, 3))\n",
        "\n",
        "# model.add(Flatten())\n",
        "# # # model.add(Dense(10))\n",
        "# model.add(Dropout(0.25))\n",
        "# model.add(BatchNormalization())\n",
        "# model.add(Activation('softmax'))\n",
        "\n",
        "#4th Attempt\n",
        "model.add(Convolution2D(16, 3, 3, activation='relu', input_shape=(28,28,1)))\n",
        "model.add(BatchNormalization())\n",
        "model.add(Convolution2D(30, 3, 3, activation='relu'))\n",
        "\n",
        "model.add(BatchNormalization())\n",
        "model.add(Dropout(0.2))\n",
        "\n",
        "model.add(MaxPooling2D(pool_size=(2, 2)))\n",
        "model.add(Convolution2D(25, 3, 3, activation='relu'))\n",
        "\n",
        "model.add(BatchNormalization())\n",
        "model.add(Dropout(0.2))\n",
        "\n",
        "model.add(MaxPooling2D(pool_size=(2, 2)))\n",
        "model.add(Convolution2D(16, 3, 3, activation='relu'))\n",
        "\n",
        "model.add(BatchNormalization())\n",
        "model.add(Dropout(0.2))\n",
        "\n",
        "model.add(Convolution2D(10, 3, 3))\n",
        "\n",
        "\n",
        "model.add(Flatten())\n",
        "model.add(Dense(128, activation='relu'))\n",
        "model.add(BatchNormalization())\n",
        "model.add(Dropout(0.2))\n",
        "model.add(Dense(10, activation='softmax'))\n",
        "model.add(Activation('softmax'))\n",
        "\n",
        "model.summary()\n",
        "\n",
        "\n"
      ],
      "execution_count": 68,
      "outputs": [
        {
          "output_type": "stream",
          "text": [
            "/usr/local/lib/python3.6/dist-packages/ipykernel_launcher.py:93: UserWarning: Update your `Conv2D` call to the Keras 2 API: `Conv2D(16, (3, 3), activation=\"relu\", input_shape=(28, 28, 1...)`\n",
            "/usr/local/lib/python3.6/dist-packages/ipykernel_launcher.py:95: UserWarning: Update your `Conv2D` call to the Keras 2 API: `Conv2D(30, (3, 3), activation=\"relu\")`\n",
            "/usr/local/lib/python3.6/dist-packages/ipykernel_launcher.py:101: UserWarning: Update your `Conv2D` call to the Keras 2 API: `Conv2D(25, (3, 3), activation=\"relu\")`\n",
            "/usr/local/lib/python3.6/dist-packages/ipykernel_launcher.py:107: UserWarning: Update your `Conv2D` call to the Keras 2 API: `Conv2D(16, (3, 3), activation=\"relu\")`\n"
          ],
          "name": "stderr"
        },
        {
          "output_type": "stream",
          "text": [
            "_________________________________________________________________\n",
            "Layer (type)                 Output Shape              Param #   \n",
            "=================================================================\n",
            "conv2d_163 (Conv2D)          (None, 26, 26, 16)        160       \n",
            "_________________________________________________________________\n",
            "batch_normalization_153 (Bat (None, 26, 26, 16)        64        \n",
            "_________________________________________________________________\n",
            "conv2d_164 (Conv2D)          (None, 24, 24, 30)        4350      \n",
            "_________________________________________________________________\n",
            "batch_normalization_154 (Bat (None, 24, 24, 30)        120       \n",
            "_________________________________________________________________\n",
            "dropout_91 (Dropout)         (None, 24, 24, 30)        0         \n",
            "_________________________________________________________________\n",
            "max_pooling2d_63 (MaxPooling (None, 12, 12, 30)        0         \n",
            "_________________________________________________________________\n",
            "conv2d_165 (Conv2D)          (None, 10, 10, 25)        6775      \n",
            "_________________________________________________________________\n",
            "batch_normalization_155 (Bat (None, 10, 10, 25)        100       \n",
            "_________________________________________________________________\n",
            "dropout_92 (Dropout)         (None, 10, 10, 25)        0         \n",
            "_________________________________________________________________\n",
            "max_pooling2d_64 (MaxPooling (None, 5, 5, 25)          0         \n",
            "_________________________________________________________________\n",
            "conv2d_166 (Conv2D)          (None, 3, 3, 16)          3616      \n",
            "_________________________________________________________________\n",
            "batch_normalization_156 (Bat (None, 3, 3, 16)          64        \n",
            "_________________________________________________________________\n",
            "dropout_93 (Dropout)         (None, 3, 3, 16)          0         \n",
            "_________________________________________________________________\n",
            "conv2d_167 (Conv2D)          (None, 1, 1, 10)          1450      \n",
            "_________________________________________________________________\n",
            "flatten_29 (Flatten)         (None, 10)                0         \n",
            "_________________________________________________________________\n",
            "dense_23 (Dense)             (None, 128)               1408      \n",
            "_________________________________________________________________\n",
            "batch_normalization_157 (Bat (None, 128)               512       \n",
            "_________________________________________________________________\n",
            "dropout_94 (Dropout)         (None, 128)               0         \n",
            "_________________________________________________________________\n",
            "dense_24 (Dense)             (None, 10)                1290      \n",
            "_________________________________________________________________\n",
            "activation_10 (Activation)   (None, 10)                0         \n",
            "=================================================================\n",
            "Total params: 19,909\n",
            "Trainable params: 19,479\n",
            "Non-trainable params: 430\n",
            "_________________________________________________________________\n"
          ],
          "name": "stdout"
        },
        {
          "output_type": "stream",
          "text": [
            "/usr/local/lib/python3.6/dist-packages/ipykernel_launcher.py:112: UserWarning: Update your `Conv2D` call to the Keras 2 API: `Conv2D(10, (3, 3))`\n"
          ],
          "name": "stderr"
        }
      ]
    },
    {
      "cell_type": "code",
      "metadata": {
        "id": "TzdAYg1k9K7Z",
        "colab_type": "code",
        "colab": {}
      },
      "source": [
        "# model.summary()"
      ],
      "execution_count": 0,
      "outputs": []
    },
    {
      "cell_type": "code",
      "metadata": {
        "id": "Zp6SuGrL9M3h",
        "colab_type": "code",
        "colab": {}
      },
      "source": [
        "model.compile(loss='categorical_crossentropy',\n",
        "             optimizer='adam',\n",
        "             metrics=['accuracy'])"
      ],
      "execution_count": 0,
      "outputs": []
    },
    {
      "cell_type": "code",
      "metadata": {
        "id": "4xWoKhPY9Of5",
        "colab_type": "code",
        "outputId": "58a3dad1-2ab3-4770-b866-987cfc4d0dfd",
        "colab": {
          "base_uri": "https://localhost:8080/",
          "height": 6888
        }
      },
      "source": [
        "# model.fit(X_train, Y_train, batch_size=32, nb_epoch=10, verbose=1)\n",
        "model.fit(X_train, Y_train, batch_size=128, nb_epoch=200, verbose=1)"
      ],
      "execution_count": 73,
      "outputs": [
        {
          "output_type": "stream",
          "text": [
            "Epoch 1/200\n",
            " 1280/60000 [..............................] - ETA: 8s - loss: 1.4712 - acc: 0.9891"
          ],
          "name": "stdout"
        },
        {
          "output_type": "stream",
          "text": [
            "/usr/local/lib/python3.6/dist-packages/ipykernel_launcher.py:1: UserWarning: The `nb_epoch` argument in `fit` has been renamed `epochs`.\n",
            "  \"\"\"Entry point for launching an IPython kernel.\n"
          ],
          "name": "stderr"
        },
        {
          "output_type": "stream",
          "text": [
            "60000/60000 [==============================] - 7s 110us/step - loss: 1.4683 - acc: 0.9930\n",
            "Epoch 2/200\n",
            "60000/60000 [==============================] - 6s 107us/step - loss: 1.4681 - acc: 0.9932\n",
            "Epoch 3/200\n",
            "60000/60000 [==============================] - 7s 108us/step - loss: 1.4675 - acc: 0.9936\n",
            "Epoch 4/200\n",
            "60000/60000 [==============================] - 6s 107us/step - loss: 1.4680 - acc: 0.9931\n",
            "Epoch 5/200\n",
            "60000/60000 [==============================] - 6s 107us/step - loss: 1.4678 - acc: 0.9934\n",
            "Epoch 6/200\n",
            "60000/60000 [==============================] - 6s 107us/step - loss: 1.4675 - acc: 0.9939\n",
            "Epoch 7/200\n",
            "60000/60000 [==============================] - 6s 107us/step - loss: 1.4676 - acc: 0.9936\n",
            "Epoch 8/200\n",
            "60000/60000 [==============================] - 6s 107us/step - loss: 1.4677 - acc: 0.9936\n",
            "Epoch 9/200\n",
            "60000/60000 [==============================] - 6s 107us/step - loss: 1.4670 - acc: 0.9942\n",
            "Epoch 10/200\n",
            "60000/60000 [==============================] - 6s 107us/step - loss: 1.4675 - acc: 0.9938\n",
            "Epoch 11/200\n",
            "60000/60000 [==============================] - 6s 107us/step - loss: 1.4677 - acc: 0.9936\n",
            "Epoch 12/200\n",
            "60000/60000 [==============================] - 7s 116us/step - loss: 1.4675 - acc: 0.9936\n",
            "Epoch 13/200\n",
            "60000/60000 [==============================] - 7s 112us/step - loss: 1.4673 - acc: 0.9938\n",
            "Epoch 14/200\n",
            "60000/60000 [==============================] - 6s 107us/step - loss: 1.4673 - acc: 0.9939\n",
            "Epoch 15/200\n",
            "60000/60000 [==============================] - 6s 107us/step - loss: 1.4675 - acc: 0.9937\n",
            "Epoch 16/200\n",
            "60000/60000 [==============================] - 6s 107us/step - loss: 1.4673 - acc: 0.9939\n",
            "Epoch 17/200\n",
            "60000/60000 [==============================] - 6s 107us/step - loss: 1.4680 - acc: 0.9933\n",
            "Epoch 18/200\n",
            "60000/60000 [==============================] - 6s 107us/step - loss: 1.4672 - acc: 0.9940\n",
            "Epoch 19/200\n",
            "60000/60000 [==============================] - 6s 107us/step - loss: 1.4678 - acc: 0.9934\n",
            "Epoch 20/200\n",
            "60000/60000 [==============================] - 6s 107us/step - loss: 1.4671 - acc: 0.9942\n",
            "Epoch 21/200\n",
            "60000/60000 [==============================] - 6s 107us/step - loss: 1.4669 - acc: 0.9943\n",
            "Epoch 22/200\n",
            "60000/60000 [==============================] - 6s 107us/step - loss: 1.4668 - acc: 0.9944\n",
            "Epoch 23/200\n",
            "60000/60000 [==============================] - 6s 107us/step - loss: 1.4668 - acc: 0.9945\n",
            "Epoch 24/200\n",
            "60000/60000 [==============================] - 7s 112us/step - loss: 1.4666 - acc: 0.9947\n",
            "Epoch 25/200\n",
            "60000/60000 [==============================] - 7s 115us/step - loss: 1.4672 - acc: 0.9942\n",
            "Epoch 26/200\n",
            "60000/60000 [==============================] - 6s 107us/step - loss: 1.4671 - acc: 0.9940\n",
            "Epoch 27/200\n",
            "60000/60000 [==============================] - 7s 119us/step - loss: 1.4669 - acc: 0.9944\n",
            "Epoch 28/200\n",
            "60000/60000 [==============================] - 7s 119us/step - loss: 1.4668 - acc: 0.9944\n",
            "Epoch 29/200\n",
            "60000/60000 [==============================] - 6s 108us/step - loss: 1.4670 - acc: 0.9941\n",
            "Epoch 30/200\n",
            "60000/60000 [==============================] - 6s 108us/step - loss: 1.4668 - acc: 0.9944\n",
            "Epoch 31/200\n",
            "60000/60000 [==============================] - 6s 107us/step - loss: 1.4666 - acc: 0.9947\n",
            "Epoch 32/200\n",
            "60000/60000 [==============================] - 6s 107us/step - loss: 1.4669 - acc: 0.9943\n",
            "Epoch 33/200\n",
            "60000/60000 [==============================] - 6s 107us/step - loss: 1.4667 - acc: 0.9945\n",
            "Epoch 34/200\n",
            "60000/60000 [==============================] - 6s 106us/step - loss: 1.4668 - acc: 0.9943\n",
            "Epoch 35/200\n",
            "60000/60000 [==============================] - 6s 106us/step - loss: 1.4669 - acc: 0.9943\n",
            "Epoch 36/200\n",
            "60000/60000 [==============================] - 7s 111us/step - loss: 1.4668 - acc: 0.9942\n",
            "Epoch 37/200\n",
            "60000/60000 [==============================] - 7s 117us/step - loss: 1.4666 - acc: 0.9946\n",
            "Epoch 38/200\n",
            "60000/60000 [==============================] - 6s 107us/step - loss: 1.4673 - acc: 0.9937\n",
            "Epoch 39/200\n",
            "60000/60000 [==============================] - 6s 106us/step - loss: 1.4665 - acc: 0.9947\n",
            "Epoch 40/200\n",
            "60000/60000 [==============================] - 6s 108us/step - loss: 1.4665 - acc: 0.9947\n",
            "Epoch 41/200\n",
            "60000/60000 [==============================] - 6s 108us/step - loss: 1.4668 - acc: 0.9944\n",
            "Epoch 42/200\n",
            "60000/60000 [==============================] - 6s 106us/step - loss: 1.4665 - acc: 0.9947\n",
            "Epoch 43/200\n",
            "60000/60000 [==============================] - 6s 106us/step - loss: 1.4658 - acc: 0.9954\n",
            "Epoch 44/200\n",
            "60000/60000 [==============================] - 6s 106us/step - loss: 1.4661 - acc: 0.9951\n",
            "Epoch 45/200\n",
            "60000/60000 [==============================] - 6s 107us/step - loss: 1.4664 - acc: 0.9947\n",
            "Epoch 46/200\n",
            "60000/60000 [==============================] - 6s 106us/step - loss: 1.4665 - acc: 0.9948\n",
            "Epoch 47/200\n",
            "60000/60000 [==============================] - 6s 107us/step - loss: 1.4662 - acc: 0.9950\n",
            "Epoch 48/200\n",
            "60000/60000 [==============================] - 6s 106us/step - loss: 1.4666 - acc: 0.9946\n",
            "Epoch 49/200\n",
            "60000/60000 [==============================] - 7s 116us/step - loss: 1.4667 - acc: 0.9945\n",
            "Epoch 50/200\n",
            "60000/60000 [==============================] - 7s 111us/step - loss: 1.4663 - acc: 0.9949\n",
            "Epoch 51/200\n",
            "60000/60000 [==============================] - 6s 106us/step - loss: 1.4665 - acc: 0.9947\n",
            "Epoch 52/200\n",
            "60000/60000 [==============================] - 6s 106us/step - loss: 1.4664 - acc: 0.9947\n",
            "Epoch 53/200\n",
            "60000/60000 [==============================] - 6s 106us/step - loss: 1.4665 - acc: 0.9947\n",
            "Epoch 54/200\n",
            "60000/60000 [==============================] - 6s 106us/step - loss: 1.4665 - acc: 0.9947\n",
            "Epoch 55/200\n",
            "60000/60000 [==============================] - 6s 106us/step - loss: 1.4664 - acc: 0.9947\n",
            "Epoch 56/200\n",
            "60000/60000 [==============================] - 6s 106us/step - loss: 1.4664 - acc: 0.9949\n",
            "Epoch 57/200\n",
            "60000/60000 [==============================] - 6s 106us/step - loss: 1.4667 - acc: 0.9946\n",
            "Epoch 58/200\n",
            "60000/60000 [==============================] - 6s 107us/step - loss: 1.4663 - acc: 0.9950\n",
            "Epoch 59/200\n",
            "60000/60000 [==============================] - 6s 106us/step - loss: 1.4661 - acc: 0.9952\n",
            "Epoch 60/200\n",
            "60000/60000 [==============================] - 6s 106us/step - loss: 1.4660 - acc: 0.9953\n",
            "Epoch 61/200\n",
            "60000/60000 [==============================] - 7s 110us/step - loss: 1.4659 - acc: 0.9953\n",
            "Epoch 62/200\n",
            "60000/60000 [==============================] - 7s 117us/step - loss: 1.4663 - acc: 0.9947\n",
            "Epoch 63/200\n",
            "60000/60000 [==============================] - 6s 106us/step - loss: 1.4659 - acc: 0.9953\n",
            "Epoch 64/200\n",
            "60000/60000 [==============================] - 6s 106us/step - loss: 1.4661 - acc: 0.9951\n",
            "Epoch 65/200\n",
            "60000/60000 [==============================] - 6s 106us/step - loss: 1.4660 - acc: 0.9951\n",
            "Epoch 66/200\n",
            "60000/60000 [==============================] - 6s 106us/step - loss: 1.4664 - acc: 0.9947\n",
            "Epoch 67/200\n",
            "60000/60000 [==============================] - 6s 106us/step - loss: 1.4661 - acc: 0.9950\n",
            "Epoch 68/200\n",
            "60000/60000 [==============================] - 6s 106us/step - loss: 1.4666 - acc: 0.9946\n",
            "Epoch 69/200\n",
            "60000/60000 [==============================] - 6s 106us/step - loss: 1.4658 - acc: 0.9954\n",
            "Epoch 70/200\n",
            "60000/60000 [==============================] - 6s 106us/step - loss: 1.4661 - acc: 0.9951\n",
            "Epoch 71/200\n",
            "60000/60000 [==============================] - 6s 106us/step - loss: 1.4656 - acc: 0.9956\n",
            "Epoch 72/200\n",
            "60000/60000 [==============================] - 6s 106us/step - loss: 1.4661 - acc: 0.9950\n",
            "Epoch 73/200\n",
            "60000/60000 [==============================] - 6s 106us/step - loss: 1.4662 - acc: 0.9950\n",
            "Epoch 74/200\n",
            "60000/60000 [==============================] - 7s 117us/step - loss: 1.4662 - acc: 0.9949\n",
            "Epoch 75/200\n",
            "60000/60000 [==============================] - 7s 117us/step - loss: 1.4659 - acc: 0.9954\n",
            "Epoch 76/200\n",
            "60000/60000 [==============================] - 7s 119us/step - loss: 1.4662 - acc: 0.9951\n",
            "Epoch 77/200\n",
            "60000/60000 [==============================] - 6s 105us/step - loss: 1.4660 - acc: 0.9951\n",
            "Epoch 78/200\n",
            "60000/60000 [==============================] - 6s 106us/step - loss: 1.4655 - acc: 0.9957\n",
            "Epoch 79/200\n",
            "60000/60000 [==============================] - 6s 105us/step - loss: 1.4656 - acc: 0.9956\n",
            "Epoch 80/200\n",
            "60000/60000 [==============================] - 6s 106us/step - loss: 1.4655 - acc: 0.9955\n",
            "Epoch 81/200\n",
            "60000/60000 [==============================] - 6s 106us/step - loss: 1.4659 - acc: 0.9952\n",
            "Epoch 82/200\n",
            "60000/60000 [==============================] - 6s 106us/step - loss: 1.4656 - acc: 0.9956\n",
            "Epoch 83/200\n",
            "60000/60000 [==============================] - 6s 106us/step - loss: 1.4662 - acc: 0.9951\n",
            "Epoch 84/200\n",
            "60000/60000 [==============================] - 6s 106us/step - loss: 1.4657 - acc: 0.9955\n",
            "Epoch 85/200\n",
            "60000/60000 [==============================] - 6s 105us/step - loss: 1.4656 - acc: 0.9956\n",
            "Epoch 86/200\n",
            "60000/60000 [==============================] - 7s 112us/step - loss: 1.4661 - acc: 0.9952\n",
            "Epoch 87/200\n",
            "60000/60000 [==============================] - 7s 114us/step - loss: 1.4662 - acc: 0.9950\n",
            "Epoch 88/200\n",
            "60000/60000 [==============================] - 6s 106us/step - loss: 1.4656 - acc: 0.9956\n",
            "Epoch 89/200\n",
            "60000/60000 [==============================] - 6s 105us/step - loss: 1.4657 - acc: 0.9954\n",
            "Epoch 90/200\n",
            "60000/60000 [==============================] - 6s 105us/step - loss: 1.4658 - acc: 0.9954\n",
            "Epoch 91/200\n",
            "60000/60000 [==============================] - 6s 105us/step - loss: 1.4655 - acc: 0.9956\n",
            "Epoch 92/200\n",
            "60000/60000 [==============================] - 6s 106us/step - loss: 1.4662 - acc: 0.9949\n",
            "Epoch 93/200\n",
            "60000/60000 [==============================] - 6s 106us/step - loss: 1.4653 - acc: 0.9959\n",
            "Epoch 94/200\n",
            "60000/60000 [==============================] - 6s 106us/step - loss: 1.4655 - acc: 0.9956\n",
            "Epoch 95/200\n",
            "60000/60000 [==============================] - 6s 105us/step - loss: 1.4656 - acc: 0.9956\n",
            "Epoch 96/200\n",
            "60000/60000 [==============================] - 6s 105us/step - loss: 1.4655 - acc: 0.9956\n",
            "Epoch 97/200\n",
            "60000/60000 [==============================] - 6s 106us/step - loss: 1.4653 - acc: 0.9959\n",
            "Epoch 98/200\n",
            "60000/60000 [==============================] - 6s 106us/step - loss: 1.4653 - acc: 0.9960\n",
            "Epoch 99/200\n",
            "60000/60000 [==============================] - 7s 115us/step - loss: 1.4655 - acc: 0.9958\n",
            "Epoch 100/200\n",
            "60000/60000 [==============================] - 7s 109us/step - loss: 1.4657 - acc: 0.9955\n",
            "Epoch 101/200\n",
            "60000/60000 [==============================] - 6s 105us/step - loss: 1.4651 - acc: 0.9961\n",
            "Epoch 102/200\n",
            "60000/60000 [==============================] - 6s 106us/step - loss: 1.4652 - acc: 0.9961\n",
            "Epoch 103/200\n",
            "60000/60000 [==============================] - 6s 106us/step - loss: 1.4653 - acc: 0.9959\n",
            "Epoch 104/200\n",
            "60000/60000 [==============================] - 6s 106us/step - loss: 1.4652 - acc: 0.9961\n",
            "Epoch 105/200\n",
            "60000/60000 [==============================] - 6s 106us/step - loss: 1.4655 - acc: 0.9957\n",
            "Epoch 106/200\n",
            "60000/60000 [==============================] - 6s 106us/step - loss: 1.4652 - acc: 0.9960\n",
            "Epoch 107/200\n",
            "60000/60000 [==============================] - 6s 106us/step - loss: 1.4657 - acc: 0.9956\n",
            "Epoch 108/200\n",
            "60000/60000 [==============================] - 6s 105us/step - loss: 1.4651 - acc: 0.9961\n",
            "Epoch 109/200\n",
            "60000/60000 [==============================] - 6s 106us/step - loss: 1.4656 - acc: 0.9957\n",
            "Epoch 110/200\n",
            "60000/60000 [==============================] - 6s 106us/step - loss: 1.4659 - acc: 0.9952\n",
            "Epoch 111/200\n",
            "60000/60000 [==============================] - 7s 111us/step - loss: 1.4655 - acc: 0.9955\n",
            "Epoch 112/200\n",
            "60000/60000 [==============================] - 7s 115us/step - loss: 1.4654 - acc: 0.9958\n",
            "Epoch 113/200\n",
            "60000/60000 [==============================] - 6s 105us/step - loss: 1.4656 - acc: 0.9955\n",
            "Epoch 114/200\n",
            "60000/60000 [==============================] - 6s 106us/step - loss: 1.4651 - acc: 0.9961\n",
            "Epoch 115/200\n",
            "60000/60000 [==============================] - 6s 105us/step - loss: 1.4654 - acc: 0.9957\n",
            "Epoch 116/200\n",
            "60000/60000 [==============================] - 6s 105us/step - loss: 1.4656 - acc: 0.9956\n",
            "Epoch 117/200\n",
            "60000/60000 [==============================] - 6s 105us/step - loss: 1.4657 - acc: 0.9954\n",
            "Epoch 118/200\n",
            "60000/60000 [==============================] - 6s 106us/step - loss: 1.4657 - acc: 0.9954\n",
            "Epoch 119/200\n",
            "60000/60000 [==============================] - 6s 106us/step - loss: 1.4652 - acc: 0.9959\n",
            "Epoch 120/200\n",
            "60000/60000 [==============================] - 6s 106us/step - loss: 1.4658 - acc: 0.9955\n",
            "Epoch 121/200\n",
            "60000/60000 [==============================] - 7s 111us/step - loss: 1.4657 - acc: 0.9955\n",
            "Epoch 122/200\n",
            "60000/60000 [==============================] - 7s 109us/step - loss: 1.4653 - acc: 0.9958\n",
            "Epoch 123/200\n",
            "60000/60000 [==============================] - 6s 107us/step - loss: 1.4656 - acc: 0.9956\n",
            "Epoch 124/200\n",
            "60000/60000 [==============================] - 7s 119us/step - loss: 1.4653 - acc: 0.9959\n",
            "Epoch 125/200\n",
            "60000/60000 [==============================] - 7s 110us/step - loss: 1.4649 - acc: 0.9963\n",
            "Epoch 126/200\n",
            "60000/60000 [==============================] - 6s 105us/step - loss: 1.4660 - acc: 0.9952\n",
            "Epoch 127/200\n",
            "60000/60000 [==============================] - 6s 105us/step - loss: 1.4650 - acc: 0.9962\n",
            "Epoch 128/200\n",
            "60000/60000 [==============================] - 6s 105us/step - loss: 1.4651 - acc: 0.9961\n",
            "Epoch 129/200\n",
            "60000/60000 [==============================] - 6s 106us/step - loss: 1.4652 - acc: 0.9959\n",
            "Epoch 130/200\n",
            "60000/60000 [==============================] - 6s 106us/step - loss: 1.4648 - acc: 0.9964\n",
            "Epoch 131/200\n",
            "60000/60000 [==============================] - 6s 105us/step - loss: 1.4649 - acc: 0.9963\n",
            "Epoch 132/200\n",
            "60000/60000 [==============================] - 6s 105us/step - loss: 1.4657 - acc: 0.9954\n",
            "Epoch 133/200\n",
            "60000/60000 [==============================] - 6s 106us/step - loss: 1.4653 - acc: 0.9960\n",
            "Epoch 134/200\n",
            "60000/60000 [==============================] - 6s 105us/step - loss: 1.4653 - acc: 0.9960\n",
            "Epoch 135/200\n",
            "60000/60000 [==============================] - 6s 106us/step - loss: 1.4654 - acc: 0.9957\n",
            "Epoch 136/200\n",
            "60000/60000 [==============================] - 7s 112us/step - loss: 1.4651 - acc: 0.9960\n",
            "Epoch 137/200\n",
            "60000/60000 [==============================] - 7s 116us/step - loss: 1.4655 - acc: 0.9957\n",
            "Epoch 138/200\n",
            "60000/60000 [==============================] - 6s 107us/step - loss: 1.4650 - acc: 0.9962\n",
            "Epoch 139/200\n",
            "60000/60000 [==============================] - 6s 108us/step - loss: 1.4648 - acc: 0.9964\n",
            "Epoch 140/200\n",
            "60000/60000 [==============================] - 6s 107us/step - loss: 1.4655 - acc: 0.9956\n",
            "Epoch 141/200\n",
            "60000/60000 [==============================] - 6s 108us/step - loss: 1.4649 - acc: 0.9962\n",
            "Epoch 142/200\n",
            "60000/60000 [==============================] - 6s 107us/step - loss: 1.4651 - acc: 0.9962\n",
            "Epoch 143/200\n",
            "60000/60000 [==============================] - 6s 106us/step - loss: 1.4650 - acc: 0.9962\n",
            "Epoch 144/200\n",
            "60000/60000 [==============================] - 6s 107us/step - loss: 1.4657 - acc: 0.9954\n",
            "Epoch 145/200\n",
            "60000/60000 [==============================] - 6s 108us/step - loss: 1.4650 - acc: 0.9962\n",
            "Epoch 146/200\n",
            "60000/60000 [==============================] - 6s 106us/step - loss: 1.4647 - acc: 0.9965\n",
            "Epoch 147/200\n",
            "60000/60000 [==============================] - 6s 105us/step - loss: 1.4649 - acc: 0.9963\n",
            "Epoch 148/200\n",
            "60000/60000 [==============================] - 6s 108us/step - loss: 1.4650 - acc: 0.9962\n",
            "Epoch 149/200\n",
            "60000/60000 [==============================] - 7s 116us/step - loss: 1.4654 - acc: 0.9957\n",
            "Epoch 150/200\n",
            "60000/60000 [==============================] - 7s 109us/step - loss: 1.4654 - acc: 0.9958\n",
            "Epoch 151/200\n",
            "60000/60000 [==============================] - 6s 106us/step - loss: 1.4651 - acc: 0.9960\n",
            "Epoch 152/200\n",
            "60000/60000 [==============================] - 6s 106us/step - loss: 1.4653 - acc: 0.9959\n",
            "Epoch 153/200\n",
            "60000/60000 [==============================] - 6s 106us/step - loss: 1.4648 - acc: 0.9964\n",
            "Epoch 154/200\n",
            "60000/60000 [==============================] - 6s 106us/step - loss: 1.4652 - acc: 0.9960\n",
            "Epoch 155/200\n",
            "60000/60000 [==============================] - 6s 106us/step - loss: 1.4651 - acc: 0.9961\n",
            "Epoch 156/200\n",
            "60000/60000 [==============================] - 6s 106us/step - loss: 1.4652 - acc: 0.9960\n",
            "Epoch 157/200\n",
            "60000/60000 [==============================] - 6s 105us/step - loss: 1.4654 - acc: 0.9957\n",
            "Epoch 158/200\n",
            "60000/60000 [==============================] - 6s 106us/step - loss: 1.4653 - acc: 0.9959\n",
            "Epoch 159/200\n",
            "60000/60000 [==============================] - 6s 106us/step - loss: 1.4654 - acc: 0.9957\n",
            "Epoch 160/200\n",
            "60000/60000 [==============================] - 6s 105us/step - loss: 1.4646 - acc: 0.9965\n",
            "Epoch 161/200\n",
            "60000/60000 [==============================] - 7s 112us/step - loss: 1.4654 - acc: 0.9957\n",
            "Epoch 162/200\n",
            "60000/60000 [==============================] - 7s 114us/step - loss: 1.4648 - acc: 0.9964\n",
            "Epoch 163/200\n",
            "60000/60000 [==============================] - 6s 106us/step - loss: 1.4650 - acc: 0.9961\n",
            "Epoch 164/200\n",
            "60000/60000 [==============================] - 6s 105us/step - loss: 1.4652 - acc: 0.9959\n",
            "Epoch 165/200\n",
            "60000/60000 [==============================] - 6s 105us/step - loss: 1.4647 - acc: 0.9964\n",
            "Epoch 166/200\n",
            "60000/60000 [==============================] - 6s 106us/step - loss: 1.4652 - acc: 0.9959\n",
            "Epoch 167/200\n",
            "60000/60000 [==============================] - 6s 105us/step - loss: 1.4654 - acc: 0.9957\n",
            "Epoch 168/200\n",
            "60000/60000 [==============================] - 6s 107us/step - loss: 1.4650 - acc: 0.9961\n",
            "Epoch 169/200\n",
            "60000/60000 [==============================] - 7s 113us/step - loss: 1.4652 - acc: 0.9960\n",
            "Epoch 170/200\n",
            "60000/60000 [==============================] - 6s 105us/step - loss: 1.4649 - acc: 0.9963\n",
            "Epoch 171/200\n",
            "60000/60000 [==============================] - 6s 105us/step - loss: 1.4650 - acc: 0.9962\n",
            "Epoch 172/200\n",
            "60000/60000 [==============================] - 7s 118us/step - loss: 1.4649 - acc: 0.9962\n",
            "Epoch 173/200\n",
            "60000/60000 [==============================] - 7s 115us/step - loss: 1.4650 - acc: 0.9961\n",
            "Epoch 174/200\n",
            "60000/60000 [==============================] - 7s 116us/step - loss: 1.4649 - acc: 0.9962\n",
            "Epoch 175/200\n",
            "60000/60000 [==============================] - 6s 106us/step - loss: 1.4647 - acc: 0.9964\n",
            "Epoch 176/200\n",
            "60000/60000 [==============================] - 6s 105us/step - loss: 1.4650 - acc: 0.9962\n",
            "Epoch 177/200\n",
            "60000/60000 [==============================] - 6s 106us/step - loss: 1.4649 - acc: 0.9963\n",
            "Epoch 178/200\n",
            "60000/60000 [==============================] - 6s 105us/step - loss: 1.4644 - acc: 0.9968\n",
            "Epoch 179/200\n",
            "60000/60000 [==============================] - 6s 105us/step - loss: 1.4646 - acc: 0.9966\n",
            "Epoch 180/200\n",
            "60000/60000 [==============================] - 6s 105us/step - loss: 1.4648 - acc: 0.9964\n",
            "Epoch 181/200\n",
            "60000/60000 [==============================] - 6s 105us/step - loss: 1.4651 - acc: 0.9961\n",
            "Epoch 182/200\n",
            "60000/60000 [==============================] - 6s 105us/step - loss: 1.4646 - acc: 0.9966\n",
            "Epoch 183/200\n",
            "60000/60000 [==============================] - 6s 105us/step - loss: 1.4650 - acc: 0.9961\n",
            "Epoch 184/200\n",
            "60000/60000 [==============================] - 6s 105us/step - loss: 1.4651 - acc: 0.9962\n",
            "Epoch 185/200\n",
            "60000/60000 [==============================] - 6s 105us/step - loss: 1.4652 - acc: 0.9959\n",
            "Epoch 186/200\n",
            "60000/60000 [==============================] - 7s 113us/step - loss: 1.4652 - acc: 0.9961\n",
            "Epoch 187/200\n",
            "60000/60000 [==============================] - 7s 113us/step - loss: 1.4649 - acc: 0.9962\n",
            "Epoch 188/200\n",
            "60000/60000 [==============================] - 6s 105us/step - loss: 1.4655 - acc: 0.9957\n",
            "Epoch 189/200\n",
            "60000/60000 [==============================] - 6s 105us/step - loss: 1.4649 - acc: 0.9962\n",
            "Epoch 190/200\n",
            "60000/60000 [==============================] - 6s 106us/step - loss: 1.4652 - acc: 0.9960\n",
            "Epoch 191/200\n",
            "60000/60000 [==============================] - 6s 105us/step - loss: 1.4652 - acc: 0.9960\n",
            "Epoch 192/200\n",
            "60000/60000 [==============================] - 6s 106us/step - loss: 1.4644 - acc: 0.9969\n",
            "Epoch 193/200\n",
            "60000/60000 [==============================] - 6s 106us/step - loss: 1.4650 - acc: 0.9961\n",
            "Epoch 194/200\n",
            "60000/60000 [==============================] - 6s 105us/step - loss: 1.4652 - acc: 0.9960\n",
            "Epoch 195/200\n",
            "60000/60000 [==============================] - 6s 105us/step - loss: 1.4652 - acc: 0.9959\n",
            "Epoch 196/200\n",
            "60000/60000 [==============================] - 6s 105us/step - loss: 1.4646 - acc: 0.9965\n",
            "Epoch 197/200\n",
            "60000/60000 [==============================] - 6s 105us/step - loss: 1.4651 - acc: 0.9960\n",
            "Epoch 198/200\n",
            "60000/60000 [==============================] - 6s 107us/step - loss: 1.4652 - acc: 0.9960\n",
            "Epoch 199/200\n",
            "60000/60000 [==============================] - 7s 116us/step - loss: 1.4650 - acc: 0.9963\n",
            "Epoch 200/200\n",
            "60000/60000 [==============================] - 7s 109us/step - loss: 1.4648 - acc: 0.9963\n"
          ],
          "name": "stdout"
        },
        {
          "output_type": "execute_result",
          "data": {
            "text/plain": [
              "<keras.callbacks.History at 0x7f14c076a860>"
            ]
          },
          "metadata": {
            "tags": []
          },
          "execution_count": 73
        }
      ]
    },
    {
      "cell_type": "code",
      "metadata": {
        "id": "AtsH-lLk-eLb",
        "colab_type": "code",
        "colab": {}
      },
      "source": [
        "score = model.evaluate(X_test, Y_test, verbose=0)"
      ],
      "execution_count": 0,
      "outputs": []
    },
    {
      "cell_type": "code",
      "metadata": {
        "id": "mkX8JMv79q9r",
        "colab_type": "code",
        "outputId": "7288869a-6e10-425d-d2d4-cd26a819b125",
        "colab": {
          "base_uri": "https://localhost:8080/",
          "height": 34
        }
      },
      "source": [
        "print(score)"
      ],
      "execution_count": 75,
      "outputs": [
        {
          "output_type": "stream",
          "text": [
            "[1.4675866065979004, 0.9934]\n"
          ],
          "name": "stdout"
        }
      ]
    },
    {
      "cell_type": "code",
      "metadata": {
        "id": "OCWoJkwE9suh",
        "colab_type": "code",
        "colab": {}
      },
      "source": [
        "y_pred = model.predict(X_test)"
      ],
      "execution_count": 0,
      "outputs": []
    },
    {
      "cell_type": "code",
      "metadata": {
        "id": "Ym7iCFBm9uBs",
        "colab_type": "code",
        "colab": {}
      },
      "source": [
        "print(y_pred[:9])\n",
        "print(y_test[:9])"
      ],
      "execution_count": 0,
      "outputs": []
    },
    {
      "cell_type": "code",
      "metadata": {
        "id": "CT--y98_dr2T",
        "colab_type": "code",
        "colab": {}
      },
      "source": [
        "layer_dict = dict([(layer.name, layer) for layer in model.layers])"
      ],
      "execution_count": 0,
      "outputs": []
    },
    {
      "cell_type": "code",
      "metadata": {
        "id": "2GY4Upv4dsUR",
        "colab_type": "code",
        "colab": {}
      },
      "source": [
        "import numpy as np\n",
        "from matplotlib import pyplot as plt\n",
        "from keras import backend as K\n",
        "%matplotlib inline\n",
        "# util function to convert a tensor into a valid image\n",
        "def deprocess_image(x):\n",
        "    # normalize tensor: center on 0., ensure std is 0.1\n",
        "    x -= x.mean()\n",
        "    x /= (x.std() + 1e-5)\n",
        "    x *= 0.1\n",
        "\n",
        "    # clip to [0, 1]\n",
        "    x += 0.5\n",
        "    x = np.clip(x, 0, 1)\n",
        "\n",
        "    # convert to RGB array\n",
        "    x *= 255\n",
        "    #x = x.transpose((1, 2, 0))\n",
        "    x = np.clip(x, 0, 255).astype('uint8')\n",
        "    return x\n",
        "\n",
        "def vis_img_in_filter(img = np.array(X_train[2]).reshape((1, 28, 28, 1)).astype(np.float64), \n",
        "                      layer_name = 'conv2d_14'):\n",
        "    layer_output = layer_dict[layer_name].output\n",
        "    img_ascs = list()\n",
        "    for filter_index in range(layer_output.shape[3]):\n",
        "        # build a loss function that maximizes the activation\n",
        "        # of the nth filter of the layer considered\n",
        "        loss = K.mean(layer_output[:, :, :, filter_index])\n",
        "\n",
        "        # compute the gradient of the input picture wrt this loss\n",
        "        grads = K.gradients(loss, model.input)[0]\n",
        "\n",
        "        # normalization trick: we normalize the gradient\n",
        "        grads /= (K.sqrt(K.mean(K.square(grads))) + 1e-5)\n",
        "\n",
        "        # this function returns the loss and grads given the input picture\n",
        "        iterate = K.function([model.input], [loss, grads])\n",
        "\n",
        "        # step size for gradient ascent\n",
        "        step = 5.\n",
        "\n",
        "        img_asc = np.array(img)\n",
        "        # run gradient ascent for 20 steps\n",
        "        for i in range(20):\n",
        "            loss_value, grads_value = iterate([img_asc])\n",
        "            img_asc += grads_value * step\n",
        "\n",
        "        img_asc = img_asc[0]\n",
        "        img_ascs.append(deprocess_image(img_asc).reshape((28, 28)))\n",
        "        \n",
        "    if layer_output.shape[3] >= 35:\n",
        "        plot_x, plot_y = 6, 6\n",
        "    elif layer_output.shape[3] >= 23:\n",
        "        plot_x, plot_y = 4, 6\n",
        "    elif layer_output.shape[3] >= 11:\n",
        "        plot_x, plot_y = 2, 6\n",
        "    else:\n",
        "        plot_x, plot_y = 1, 2\n",
        "    fig, ax = plt.subplots(plot_x, plot_y, figsize = (12, 12))\n",
        "    ax[0, 0].imshow(img.reshape((28, 28)), cmap = 'gray')\n",
        "    ax[0, 0].set_title('Input image')\n",
        "    fig.suptitle('Input image and %s filters' % (layer_name,))\n",
        "    fig.tight_layout(pad = 0.3, rect = [0, 0, 0.9, 0.9])\n",
        "    for (x, y) in [(i, j) for i in range(plot_x) for j in range(plot_y)]:\n",
        "        if x == 0 and y == 0:\n",
        "            continue\n",
        "        ax[x, y].imshow(img_ascs[x * plot_y + y - 1], cmap = 'gray')\n",
        "        ax[x, y].set_title('filter %d' % (x * plot_y + y - 1))\n",
        "\n",
        "vis_img_in_filter()"
      ],
      "execution_count": 0,
      "outputs": []
    },
    {
      "cell_type": "code",
      "metadata": {
        "id": "9tvptcn8dxvp",
        "colab_type": "code",
        "colab": {}
      },
      "source": [
        ""
      ],
      "execution_count": 0,
      "outputs": []
    }
  ]
}