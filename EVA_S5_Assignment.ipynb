{
  "nbformat": 4,
  "nbformat_minor": 0,
  "metadata": {
    "colab": {
      "name": "EVA_S5_Assignment.ipynb",
      "version": "0.3.2",
      "provenance": [],
      "collapsed_sections": [],
      "include_colab_link": true
    },
    "kernelspec": {
      "name": "python3",
      "display_name": "Python 3"
    },
    "accelerator": "GPU"
  },
  "cells": [
    {
      "cell_type": "markdown",
      "metadata": {
        "id": "view-in-github",
        "colab_type": "text"
      },
      "source": [
        "<a href=\"https://colab.research.google.com/github/rashidmeras/EVA-M6/blob/master/EVA_S5_Assignment.ipynb\" target=\"_parent\"><img src=\"https://colab.research.google.com/assets/colab-badge.svg\" alt=\"Open In Colab\"/></a>"
      ]
    },
    {
      "cell_type": "markdown",
      "metadata": {
        "id": "aNyZv-Ec52ot",
        "colab_type": "text"
      },
      "source": [
        "# EVA (M6) Session5 Assignment: \n",
        "\n",
        "Objective:\n",
        "\n",
        "> Using the network defined in Assignment 4 change the code to include:\n",
        "\n",
        "> * Image Normalization,\n",
        "> * L2 - Regularization,\n",
        "> * ReLU after BN,\n",
        "> * Run new code for 40 epochs and save the model with highest validation accuracy,\n",
        "> * Find out 25 mis-classified images from the validation dataset and create an image gallery.\n",
        "\n",
        "\n",
        "*So lets Start!!*"
      ]
    },
    {
      "cell_type": "markdown",
      "metadata": {
        "id": "TFIK3KZEHAu-",
        "colab_type": "text"
      },
      "source": [
        "Basic Setup:\n",
        "* Install the Keras API library\n",
        "* From Keras API library import APIs needed to create a DNN"
      ]
    },
    {
      "cell_type": "code",
      "metadata": {
        "id": "3m3w1Cw49Zkt",
        "colab_type": "code",
        "colab": {}
      },
      "source": [
        "!pip install -q keras\n",
        "import keras\n",
        "import tensorflow as tf\n",
        "\n",
        "import numpy as np\n",
        "\n",
        "from keras.models import Sequential\n",
        "from keras.layers import Dropout, Activation, Flatten, Add, BatchNormalization\n",
        "from keras.layers import Convolution2D, MaxPooling2D\n",
        "from keras.utils import np_utils\n",
        "from keras.preprocessing.image import ImageDataGenerator\n",
        "from keras import regularizers\n",
        "from keras.callbacks import ModelCheckpoint\n",
        "from keras.models import load_model\n",
        "\n",
        "from keras.datasets import mnist"
      ],
      "execution_count": 0,
      "outputs": []
    },
    {
      "cell_type": "markdown",
      "metadata": {
        "id": "jCjHYbiFS_-H",
        "colab_type": "text"
      },
      "source": [
        "Let's fix a random seed=**990** for reproducibility!"
      ]
    },
    {
      "cell_type": "code",
      "metadata": {
        "id": "2C4_kOtLTBAy",
        "colab_type": "code",
        "colab": {}
      },
      "source": [
        "# fix random seed for reproducibility\n",
        "seed = 990\n",
        "np.random.seed(seed)"
      ],
      "execution_count": 0,
      "outputs": []
    },
    {
      "cell_type": "markdown",
      "metadata": {
        "id": "zByEi95J86RD",
        "colab_type": "text"
      },
      "source": [
        "\n",
        "Load the the data, shuffled and split between train and test sets.\n",
        "\n",
        "The MNIST dataset consists of pair, “handwritten digit image” and “label”. Digit ranges from 0 to 9, meaning 10 patterns in total.\n",
        "\n",
        "* handwritten digit image (X_train): This is gray scale image with size 28 x 28 pixel.\n",
        "* label (y_train): This is actual digit number this handwritten digit image represents. It is the numbers between including 0 to 9.\n",
        "\n",
        "Matplotlib is a Python 2D plotting library & PyPlot is a shell-like interface to Matplotlib.\n",
        "Use Matplotlib to plot first few images."
      ]
    },
    {
      "cell_type": "code",
      "metadata": {
        "id": "7eRM0QWN83PV",
        "colab_type": "code",
        "colab": {
          "base_uri": "https://localhost:8080/",
          "height": 303
        },
        "outputId": "ff65f9be-2a9a-4e4e-febf-090ba17119e3"
      },
      "source": [
        "(X_train, y_train), (X_test, y_test) = mnist.load_data()\n",
        "\n",
        "from matplotlib import pyplot\n",
        "\n",
        "# summarize loaded dataset\n",
        "print('Train: X=%s, y=%s' % (X_train.shape, y_train.shape))\n",
        "print('Test: X=%s, y=%s' % (X_test.shape, y_test.shape))\n",
        "\n",
        "# plot first few images\n",
        "for i in range(9):\n",
        "\t# define subplot\n",
        "\tpyplot.subplot(330 + 1 + i)\n",
        "\t# plot raw pixel data\n",
        "\tpyplot.imshow(X_train[i])\n",
        "# show the figure\n",
        "pyplot.show()"
      ],
      "execution_count": 87,
      "outputs": [
        {
          "output_type": "stream",
          "text": [
            "Train: X=(60000, 28, 28), y=(60000,)\n",
            "Test: X=(10000, 28, 28), y=(10000,)\n"
          ],
          "name": "stdout"
        },
        {
          "output_type": "display_data",
          "data": {
            "image/png": "[encoded data removed]",
            "text/plain": [
              "<Figure size 432x288 with 9 Axes>"
            ]
          },
          "metadata": {
            "tags": []
          }
        }
      ]
    },
    {
      "cell_type": "markdown",
      "metadata": {
        "id": "tuJ7CUzrKA8U",
        "colab_type": "text"
      },
      "source": [
        "Flatten 28x28 images to a 28*28=784 vector for each image.\n",
        "\n",
        "> The images in the dataset are of 28*28 dimensions which is difficult to accommodate in a simple multilayer neural network. Therefore we need to convert the images into a single dimension where each image contains 784-pixel data using the reshape() function. Then do pixel normalization by dviding each pixel by 255."
      ]
    },
    {
      "cell_type": "code",
      "metadata": {
        "id": "dkmprriw9AnZ",
        "colab_type": "code",
        "colab": {}
      },
      "source": [
        "X_train = X_train.reshape(X_train.shape[0], 28, 28, 1)\n",
        "X_test = X_test.reshape(X_test.shape[0], 28, 28, 1)\n",
        "\n",
        "X_train = X_train.astype('float32')\n",
        "X_test = X_test.astype('float32')\n",
        "X_train /= 255\n",
        "X_test /= 255"
      ],
      "execution_count": 0,
      "outputs": []
    },
    {
      "cell_type": "markdown",
      "metadata": {
        "id": "NLywadlZKTIj",
        "colab_type": "text"
      },
      "source": [
        "Convert class vectors to binary class matrices:\n",
        "\n",
        "> We need to perform one-hot encoding of the class labels for getting a vector of class integers into a binary matrix. We need to do this to do a “binarization” of the category and so that we can include it as a feature to train the neural network.\n",
        "\n",
        "We can use the built in np_utils.to_categorical() helper function in keras to do this."
      ]
    },
    {
      "cell_type": "code",
      "metadata": {
        "id": "XhSJw49rZ2gG",
        "colab_type": "code",
        "colab": {}
      },
      "source": [
        "# Convert 1-dimensional class arrays to 10-dimensional class matrices\n",
        "Y_train = np_utils.to_categorical(y_train, 10)\n",
        "Y_test = np_utils.to_categorical(y_test, 10)"
      ],
      "execution_count": 0,
      "outputs": []
    },
    {
      "cell_type": "markdown",
      "metadata": {
        "id": "sUTZQQnVZ57o",
        "colab_type": "text"
      },
      "source": [
        "## Image Normalization"
      ]
    },
    {
      "cell_type": "code",
      "metadata": {
        "id": "p62N160MDWrn",
        "colab_type": "code",
        "colab": {
          "base_uri": "https://localhost:8080/",
          "height": 85
        },
        "outputId": "2ba2cba0-3911-4d99-a7f7-73852c6d1de4"
      },
      "source": [
        "# confirm scale of pixels\n",
        "print('Train min=%.3f, max=%.3f' % (X_train.min(), X_train.max()))\n",
        "print('Test min=%.3f, max=%.3f' % (X_test.min(), X_test.max()))\n",
        "\n",
        "# create generator that centers pixel values\n",
        "datagen = ImageDataGenerator(featurewise_center=True, featurewise_std_normalization=True)\n",
        "\n",
        "# calculate mean on training dataset\n",
        "datagen.fit(X_train)\n",
        "\n",
        "print('Data Generator mean=%.3f, std=%.3f' % (datagen.mean, datagen.std))\n",
        "\n",
        "# prepare an iterators to scale images\n",
        "train_iterator = datagen.flow(X_train, Y_train, batch_size=25)\n",
        "test_iterator = datagen.flow(X_test, Y_test, batch_size=25)\n",
        "print('Batches train=%d, test=%d' % (len(train_iterator), len(test_iterator)))"
      ],
      "execution_count": 90,
      "outputs": [
        {
          "output_type": "stream",
          "text": [
            "Train min=0.000, max=1.000\n",
            "Test min=0.000, max=1.000\n",
            "Data Generator mean=0.131, std=0.308\n",
            "Batches train=2400, test=400\n"
          ],
          "name": "stdout"
        }
      ]
    },
    {
      "cell_type": "markdown",
      "metadata": {
        "id": "_S3Ar0vWTHz5",
        "colab_type": "text"
      },
      "source": [
        "## New Network\n",
        "\n",
        " The new network is implement as shown below with the following features:\n",
        " > * ReLU after BN \n",
        " > * Dropout after ReLU"
      ]
    },
    {
      "cell_type": "code",
      "metadata": {
        "id": "osKqT73Q9JJB",
        "colab_type": "code",
        "colab": {
          "base_uri": "https://localhost:8080/",
          "height": 1329
        },
        "outputId": "212b8aea-96aa-4c55-ab79-46e6189e82ed"
      },
      "source": [
        "from keras.layers import Activation\n",
        "model = Sequential()\n",
        "\n",
        "#Layer1: Cov->BN->Act->DO i/p:|28x28x1|Conv(3x3x1)x32| o/p:|26x26x32|\n",
        "model.add(Convolution2D(32, 3, 3, use_bias=False, input_shape=(28,28,1), kernel_regularizer=regularizers.l2(0.01)))\n",
        "model.add(BatchNormalization())\n",
        "model.add(Activation('relu'))\n",
        "model.add(Dropout(0.1))\n",
        "\n",
        "#Layer2: Cov->BN->Act->DO i/p:|26x26x8|Conv(3x3x8)x16| o/p:|24x24x16|\n",
        "model.add(Convolution2D(16, 3, 3, use_bias=False, kernel_regularizer=regularizers.l2(0.01)))\n",
        "model.add(BatchNormalization())\n",
        "model.add(Activation('relu'))\n",
        "model.add(Dropout(0.1))\n",
        "\n",
        "#Layer3: Cov->BN->Act->DO i/p:|24x24x4|Conv(3x3x4)x16| o/p:|22x22x16|\n",
        "model.add(Convolution2D(16, 3, 3, use_bias=False, kernel_regularizer=regularizers.l2(0.01)))\n",
        "model.add(BatchNormalization())\n",
        "model.add(Activation('relu'))\n",
        "model.add(Dropout(0.1))\n",
        "\n",
        "#Layer4: Cov->BN->Act->DO i/p:|22x22x4|Conv(1x1x4)x12| o/p:|22x22x12|\n",
        "model.add(Convolution2D(12, 1, 1, use_bias=False, kernel_regularizer=regularizers.l2(0.01)))\n",
        "model.add(BatchNormalization())\n",
        "model.add(Activation('relu'))\n",
        "model.add(Dropout(0.1))\n",
        "\n",
        "#Layer5: Max-Pooling layer\n",
        "model.add(MaxPooling2D(pool_size=(2, 2))) #11\n",
        "\n",
        "#Layer6: Cov->BN->Act->DO i/p:|11x11x3|Conv(3x3x3)x16| o/p:|9x9x16|\n",
        "model.add(Convolution2D(16, 3, 3, use_bias=False, kernel_regularizer=regularizers.l2(0.01)))\n",
        "model.add(BatchNormalization())\n",
        "model.add(Activation('relu'))\n",
        "model.add(Dropout(0.1))\n",
        "\n",
        "#Layer7: Cov->BN->Act->DO i/p:|9x9x16|Conv(3x3x16)x16| o/p:|7x7x16|\n",
        "model.add(Convolution2D(16, 3, 3, use_bias=False, kernel_regularizer=regularizers.l2(0.01)))\n",
        "model.add(BatchNormalization())\n",
        "model.add(Activation('relu'))\n",
        "model.add(Dropout(0.1))\n",
        "\n",
        "#Layer8: Cov->BN->Act->DO i/p:|7x7x16|Conv(7x7x16)x10| o/p:|1x1x10|\n",
        "model.add(Convolution2D(10, 7, 7, use_bias=False, kernel_regularizer=regularizers.l2(0.01)))\n",
        "model.add(BatchNormalization())\n",
        "model.add(Dropout(0.1))\n",
        "\n",
        "#Layer9: Flatten & activation\n",
        "model.add(Flatten())\n",
        "model.add(Activation('softmax'))\n",
        "\n",
        "#Print model summary\n",
        "model.summary()"
      ],
      "execution_count": 115,
      "outputs": [
        {
          "output_type": "stream",
          "text": [
            "/usr/local/lib/python3.6/dist-packages/ipykernel_launcher.py:5: UserWarning: Update your `Conv2D` call to the Keras 2 API: `Conv2D(32, (3, 3), use_bias=False, input_shape=(28, 28, 1..., kernel_regularizer=<keras.reg...)`\n",
            "  \"\"\"\n",
            "/usr/local/lib/python3.6/dist-packages/ipykernel_launcher.py:11: UserWarning: Update your `Conv2D` call to the Keras 2 API: `Conv2D(16, (3, 3), use_bias=False, kernel_regularizer=<keras.reg...)`\n",
            "  # This is added back by InteractiveShellApp.init_path()\n",
            "/usr/local/lib/python3.6/dist-packages/ipykernel_launcher.py:17: UserWarning: Update your `Conv2D` call to the Keras 2 API: `Conv2D(16, (3, 3), use_bias=False, kernel_regularizer=<keras.reg...)`\n",
            "/usr/local/lib/python3.6/dist-packages/ipykernel_launcher.py:23: UserWarning: Update your `Conv2D` call to the Keras 2 API: `Conv2D(12, (1, 1), use_bias=False, kernel_regularizer=<keras.reg...)`\n",
            "/usr/local/lib/python3.6/dist-packages/ipykernel_launcher.py:32: UserWarning: Update your `Conv2D` call to the Keras 2 API: `Conv2D(16, (3, 3), use_bias=False, kernel_regularizer=<keras.reg...)`\n",
            "/usr/local/lib/python3.6/dist-packages/ipykernel_launcher.py:38: UserWarning: Update your `Conv2D` call to the Keras 2 API: `Conv2D(16, (3, 3), use_bias=False, kernel_regularizer=<keras.reg...)`\n"
          ],
          "name": "stderr"
        },
        {
          "output_type": "stream",
          "text": [
            "_________________________________________________________________\n",
            "Layer (type)                 Output Shape              Param #   \n",
            "=================================================================\n",
            "conv2d_68 (Conv2D)           (None, 26, 26, 32)        288       \n",
            "_________________________________________________________________\n",
            "batch_normalization_66 (Batc (None, 26, 26, 32)        128       \n",
            "_________________________________________________________________\n",
            "activation_65 (Activation)   (None, 26, 26, 32)        0         \n",
            "_________________________________________________________________\n",
            "dropout_66 (Dropout)         (None, 26, 26, 32)        0         \n",
            "_________________________________________________________________\n",
            "conv2d_69 (Conv2D)           (None, 24, 24, 16)        4608      \n",
            "_________________________________________________________________\n",
            "batch_normalization_67 (Batc (None, 24, 24, 16)        64        \n",
            "_________________________________________________________________\n",
            "activation_66 (Activation)   (None, 24, 24, 16)        0         \n",
            "_________________________________________________________________\n",
            "dropout_67 (Dropout)         (None, 24, 24, 16)        0         \n",
            "_________________________________________________________________\n",
            "conv2d_70 (Conv2D)           (None, 22, 22, 16)        2304      \n",
            "_________________________________________________________________\n",
            "batch_normalization_68 (Batc (None, 22, 22, 16)        64        \n",
            "_________________________________________________________________\n",
            "activation_67 (Activation)   (None, 22, 22, 16)        0         \n",
            "_________________________________________________________________\n",
            "dropout_68 (Dropout)         (None, 22, 22, 16)        0         \n",
            "_________________________________________________________________\n",
            "conv2d_71 (Conv2D)           (None, 22, 22, 12)        192       \n",
            "_________________________________________________________________\n",
            "batch_normalization_69 (Batc (None, 22, 22, 12)        48        \n",
            "_________________________________________________________________\n",
            "activation_68 (Activation)   (None, 22, 22, 12)        0         \n",
            "_________________________________________________________________\n",
            "dropout_69 (Dropout)         (None, 22, 22, 12)        0         \n",
            "_________________________________________________________________\n",
            "max_pooling2d_10 (MaxPooling (None, 11, 11, 12)        0         \n",
            "_________________________________________________________________\n",
            "conv2d_72 (Conv2D)           (None, 9, 9, 16)          1728      \n",
            "_________________________________________________________________\n",
            "batch_normalization_70 (Batc (None, 9, 9, 16)          64        \n",
            "_________________________________________________________________\n",
            "activation_69 (Activation)   (None, 9, 9, 16)          0         \n",
            "_________________________________________________________________\n",
            "dropout_70 (Dropout)         (None, 9, 9, 16)          0         \n",
            "_________________________________________________________________\n",
            "conv2d_73 (Conv2D)           (None, 7, 7, 16)          2304      \n",
            "_________________________________________________________________\n",
            "batch_normalization_71 (Batc (None, 7, 7, 16)          64        \n",
            "_________________________________________________________________\n",
            "activation_70 (Activation)   (None, 7, 7, 16)          0         \n",
            "_________________________________________________________________\n",
            "dropout_71 (Dropout)         (None, 7, 7, 16)          0         \n",
            "_________________________________________________________________\n",
            "conv2d_74 (Conv2D)           (None, 1, 1, 10)          7840      \n",
            "_________________________________________________________________\n",
            "batch_normalization_72 (Batc (None, 1, 1, 10)          40        \n",
            "_________________________________________________________________\n",
            "dropout_72 (Dropout)         (None, 1, 1, 10)          0         \n",
            "_________________________________________________________________\n",
            "flatten_10 (Flatten)         (None, 10)                0         \n",
            "_________________________________________________________________\n",
            "activation_71 (Activation)   (None, 10)                0         \n",
            "=================================================================\n",
            "Total params: 19,736\n",
            "Trainable params: 19,500\n",
            "Non-trainable params: 236\n",
            "_________________________________________________________________\n"
          ],
          "name": "stdout"
        },
        {
          "output_type": "stream",
          "text": [
            "/usr/local/lib/python3.6/dist-packages/ipykernel_launcher.py:44: UserWarning: Update your `Conv2D` call to the Keras 2 API: `Conv2D(10, (7, 7), use_bias=False, kernel_regularizer=<keras.reg...)`\n"
          ],
          "name": "stderr"
        }
      ]
    },
    {
      "cell_type": "markdown",
      "metadata": {
        "id": "x_0RKp7mKtc4",
        "colab_type": "text"
      },
      "source": [
        "Compile the model:\n",
        "> * Save the model with highest validation accuracy"
      ]
    },
    {
      "cell_type": "code",
      "metadata": {
        "id": "Zp6SuGrL9M3h",
        "colab_type": "code",
        "outputId": "7f35e2a2-0c08-4cf4-a1ea-47c21df01be2",
        "colab": {
          "base_uri": "https://localhost:8080/",
          "height": 2737
        }
      },
      "source": [
        "model.compile(optimizer='adam',\n",
        "              loss = 'categorical_crossentropy',\n",
        "              metrics=['accuracy'])\n",
        "\n",
        "save_mcp = ModelCheckpoint('best_model.h5', monitor='val_acc', mode='max', verbose=1, save_best_only=True)\n",
        "\n",
        "history = model.fit_generator(train_iterator, steps_per_epoch=len(train_iterator), epochs=40, validation_data=(X_test, Y_test), callbacks=[save_mcp], verbose=1)"
      ],
      "execution_count": 116,
      "outputs": [
        {
          "output_type": "stream",
          "text": [
            "Epoch 1/40\n",
            "2400/2400 [==============================] - 39s 16ms/step - loss: 0.8717 - acc: 0.8331 - val_loss: 1.0464 - val_acc: 0.8862\n",
            "\n",
            "Epoch 00001: val_acc improved from -inf to 0.88620, saving model to best_model.h5\n",
            "Epoch 2/40\n",
            "2400/2400 [==============================] - 30s 13ms/step - loss: 0.4825 - acc: 0.8763 - val_loss: 1.3749 - val_acc: 0.5012\n",
            "\n",
            "Epoch 00002: val_acc did not improve from 0.88620\n",
            "Epoch 3/40\n",
            "2400/2400 [==============================] - 30s 13ms/step - loss: 0.4345 - acc: 0.8862 - val_loss: 1.3139 - val_acc: 0.4958\n",
            "\n",
            "Epoch 00003: val_acc did not improve from 0.88620\n",
            "Epoch 4/40\n",
            "2400/2400 [==============================] - 32s 13ms/step - loss: 0.4122 - acc: 0.8937 - val_loss: 0.7730 - val_acc: 0.8674\n",
            "\n",
            "Epoch 00004: val_acc did not improve from 0.88620\n",
            "Epoch 5/40\n",
            "2400/2400 [==============================] - 31s 13ms/step - loss: 0.3916 - acc: 0.9004 - val_loss: 0.9058 - val_acc: 0.7647\n",
            "\n",
            "Epoch 00005: val_acc did not improve from 0.88620\n",
            "Epoch 6/40\n",
            "2400/2400 [==============================] - 33s 14ms/step - loss: 0.3766 - acc: 0.9039 - val_loss: 1.0295 - val_acc: 0.7424\n",
            "\n",
            "Epoch 00006: val_acc did not improve from 0.88620\n",
            "Epoch 7/40\n",
            "2400/2400 [==============================] - 31s 13ms/step - loss: 0.3731 - acc: 0.9048 - val_loss: 0.9828 - val_acc: 0.7553\n",
            "\n",
            "Epoch 00007: val_acc did not improve from 0.88620\n",
            "Epoch 8/40\n",
            "2400/2400 [==============================] - 31s 13ms/step - loss: 0.3583 - acc: 0.9104 - val_loss: 1.0928 - val_acc: 0.6939\n",
            "\n",
            "Epoch 00008: val_acc did not improve from 0.88620\n",
            "Epoch 9/40\n",
            "2400/2400 [==============================] - 32s 13ms/step - loss: 0.3609 - acc: 0.9092 - val_loss: 0.5247 - val_acc: 0.8659\n",
            "\n",
            "Epoch 00009: val_acc did not improve from 0.88620\n",
            "Epoch 10/40\n",
            "2400/2400 [==============================] - 30s 13ms/step - loss: 0.3535 - acc: 0.9099 - val_loss: 0.8421 - val_acc: 0.7926\n",
            "\n",
            "Epoch 00010: val_acc did not improve from 0.88620\n",
            "Epoch 11/40\n",
            "2400/2400 [==============================] - 31s 13ms/step - loss: 0.3490 - acc: 0.9119 - val_loss: 1.4557 - val_acc: 0.4303\n",
            "\n",
            "Epoch 00011: val_acc did not improve from 0.88620\n",
            "Epoch 12/40\n",
            "2400/2400 [==============================] - 32s 13ms/step - loss: 0.3468 - acc: 0.9129 - val_loss: 0.4404 - val_acc: 0.9153\n",
            "\n",
            "Epoch 00012: val_acc improved from 0.88620 to 0.91530, saving model to best_model.h5\n",
            "Epoch 13/40\n",
            "2400/2400 [==============================] - 30s 13ms/step - loss: 0.3455 - acc: 0.9159 - val_loss: 0.9413 - val_acc: 0.6855\n",
            "\n",
            "Epoch 00013: val_acc did not improve from 0.91530\n",
            "Epoch 14/40\n",
            "2400/2400 [==============================] - 32s 13ms/step - loss: 0.3437 - acc: 0.9140 - val_loss: 1.5282 - val_acc: 0.5642\n",
            "\n",
            "Epoch 00014: val_acc did not improve from 0.91530\n",
            "Epoch 15/40\n",
            "2400/2400 [==============================] - 31s 13ms/step - loss: 0.3392 - acc: 0.9167 - val_loss: 1.2727 - val_acc: 0.6111\n",
            "\n",
            "Epoch 00015: val_acc did not improve from 0.91530\n",
            "Epoch 16/40\n",
            "2400/2400 [==============================] - 32s 13ms/step - loss: 0.3332 - acc: 0.9163 - val_loss: 0.9984 - val_acc: 0.7030\n",
            "\n",
            "Epoch 00016: val_acc did not improve from 0.91530\n",
            "Epoch 17/40\n",
            "2400/2400 [==============================] - 32s 13ms/step - loss: 0.3385 - acc: 0.9138 - val_loss: 2.2583 - val_acc: 0.3045\n",
            "\n",
            "Epoch 00017: val_acc did not improve from 0.91530\n",
            "Epoch 18/40\n",
            "2400/2400 [==============================] - 30s 13ms/step - loss: 0.3372 - acc: 0.9160 - val_loss: 0.7485 - val_acc: 0.7849\n",
            "\n",
            "Epoch 00018: val_acc did not improve from 0.91530\n",
            "Epoch 19/40\n",
            "2400/2400 [==============================] - 32s 13ms/step - loss: 0.3337 - acc: 0.9161 - val_loss: 1.0685 - val_acc: 0.6614\n",
            "\n",
            "Epoch 00019: val_acc did not improve from 0.91530\n",
            "Epoch 20/40\n",
            "2400/2400 [==============================] - 30s 13ms/step - loss: 0.3241 - acc: 0.9189 - val_loss: 0.7519 - val_acc: 0.7833\n",
            "\n",
            "Epoch 00020: val_acc did not improve from 0.91530\n",
            "Epoch 21/40\n",
            "2400/2400 [==============================] - 30s 13ms/step - loss: 0.3280 - acc: 0.9169 - val_loss: 1.3520 - val_acc: 0.5744\n",
            "\n",
            "Epoch 00021: val_acc did not improve from 0.91530\n",
            "Epoch 22/40\n",
            "2400/2400 [==============================] - 32s 13ms/step - loss: 0.3242 - acc: 0.9182 - val_loss: 0.7906 - val_acc: 0.7588\n",
            "\n",
            "Epoch 00022: val_acc did not improve from 0.91530\n",
            "Epoch 23/40\n",
            "2400/2400 [==============================] - 30s 13ms/step - loss: 0.3311 - acc: 0.9177 - val_loss: 0.9135 - val_acc: 0.7138\n",
            "\n",
            "Epoch 00023: val_acc did not improve from 0.91530\n",
            "Epoch 24/40\n",
            "2400/2400 [==============================] - 31s 13ms/step - loss: 0.3242 - acc: 0.9177 - val_loss: 0.6247 - val_acc: 0.8335\n",
            "\n",
            "Epoch 00024: val_acc did not improve from 0.91530\n",
            "Epoch 25/40\n",
            "2400/2400 [==============================] - 31s 13ms/step - loss: 0.3305 - acc: 0.9166 - val_loss: 1.0521 - val_acc: 0.6433\n",
            "\n",
            "Epoch 00025: val_acc did not improve from 0.91530\n",
            "Epoch 26/40\n",
            "2400/2400 [==============================] - 32s 13ms/step - loss: 0.3271 - acc: 0.9167 - val_loss: 0.9712 - val_acc: 0.6982\n",
            "\n",
            "Epoch 00026: val_acc did not improve from 0.91530\n",
            "Epoch 27/40\n",
            "2400/2400 [==============================] - 32s 13ms/step - loss: 0.3201 - acc: 0.9200 - val_loss: 0.5747 - val_acc: 0.8322\n",
            "\n",
            "Epoch 00027: val_acc did not improve from 0.91530\n",
            "Epoch 28/40\n",
            "2400/2400 [==============================] - 30s 13ms/step - loss: 0.3238 - acc: 0.9177 - val_loss: 0.7836 - val_acc: 0.7642\n",
            "\n",
            "Epoch 00028: val_acc did not improve from 0.91530\n",
            "Epoch 29/40\n",
            "2400/2400 [==============================] - 31s 13ms/step - loss: 0.3214 - acc: 0.9199 - val_loss: 1.1758 - val_acc: 0.6472\n",
            "\n",
            "Epoch 00029: val_acc did not improve from 0.91530\n",
            "Epoch 30/40\n",
            "2400/2400 [==============================] - 32s 13ms/step - loss: 0.3233 - acc: 0.9185 - val_loss: 0.6066 - val_acc: 0.8293\n",
            "\n",
            "Epoch 00030: val_acc did not improve from 0.91530\n",
            "Epoch 31/40\n",
            "2400/2400 [==============================] - 30s 13ms/step - loss: 0.3241 - acc: 0.9193 - val_loss: 1.3287 - val_acc: 0.6306\n",
            "\n",
            "Epoch 00031: val_acc did not improve from 0.91530\n",
            "Epoch 32/40\n",
            "2400/2400 [==============================] - 32s 13ms/step - loss: 0.3220 - acc: 0.9192 - val_loss: 0.7421 - val_acc: 0.7772\n",
            "\n",
            "Epoch 00032: val_acc did not improve from 0.91530\n",
            "Epoch 33/40\n",
            "2400/2400 [==============================] - 30s 13ms/step - loss: 0.3195 - acc: 0.9197 - val_loss: 1.4887 - val_acc: 0.6169\n",
            "\n",
            "Epoch 00033: val_acc did not improve from 0.91530\n",
            "Epoch 34/40\n",
            "2400/2400 [==============================] - 31s 13ms/step - loss: 0.3228 - acc: 0.9199 - val_loss: 0.5069 - val_acc: 0.8611\n",
            "\n",
            "Epoch 00034: val_acc did not improve from 0.91530\n",
            "Epoch 35/40\n",
            "2400/2400 [==============================] - 32s 13ms/step - loss: 0.3235 - acc: 0.9188 - val_loss: 0.7094 - val_acc: 0.7876\n",
            "\n",
            "Epoch 00035: val_acc did not improve from 0.91530\n",
            "Epoch 36/40\n",
            "2400/2400 [==============================] - 32s 13ms/step - loss: 0.3239 - acc: 0.9185 - val_loss: 0.4753 - val_acc: 0.8770\n",
            "\n",
            "Epoch 00036: val_acc did not improve from 0.91530\n",
            "Epoch 37/40\n",
            "2400/2400 [==============================] - 32s 13ms/step - loss: 0.3246 - acc: 0.9175 - val_loss: 0.6216 - val_acc: 0.8288\n",
            "\n",
            "Epoch 00037: val_acc did not improve from 0.91530\n",
            "Epoch 38/40\n",
            "2400/2400 [==============================] - 30s 13ms/step - loss: 0.3237 - acc: 0.9201 - val_loss: 0.8405 - val_acc: 0.7559\n",
            "\n",
            "Epoch 00038: val_acc did not improve from 0.91530\n",
            "Epoch 39/40\n",
            "2400/2400 [==============================] - 30s 13ms/step - loss: 0.3255 - acc: 0.9183 - val_loss: 1.1410 - val_acc: 0.6984\n",
            "\n",
            "Epoch 00039: val_acc did not improve from 0.91530\n",
            "Epoch 40/40\n",
            "2400/2400 [==============================] - 32s 13ms/step - loss: 0.3170 - acc: 0.9197 - val_loss: 0.8540 - val_acc: 0.7448\n",
            "\n",
            "Epoch 00040: val_acc did not improve from 0.91530\n"
          ],
          "name": "stdout"
        }
      ]
    },
    {
      "cell_type": "markdown",
      "metadata": {
        "id": "pFLann9Cno6l",
        "colab_type": "text"
      },
      "source": [
        "Display the Train and Test Accuracy from the saved model"
      ]
    },
    {
      "cell_type": "code",
      "metadata": {
        "id": "sexT6ulvoAOJ",
        "colab_type": "code",
        "outputId": "4896064b-e056-4734-fd57-a9442777add2",
        "colab": {
          "base_uri": "https://localhost:8080/",
          "height": 68
        }
      },
      "source": [
        "# load the saved model\n",
        "saved_model = load_model('best_model.h5')\n",
        "\n",
        "# evaluate model\n",
        "train_acc = saved_model.evaluate_generator(train_iterator, steps=len(train_iterator), verbose=1)\n",
        "test_acc  = saved_model.evaluate_generator(test_iterator, steps=len(test_iterator), verbose=1)\n",
        "print('Train Accuracy: %.3f, Test Accuracy: %.3f' % (train_acc[1]*100, test_acc[1]*100))"
      ],
      "execution_count": 117,
      "outputs": [
        {
          "output_type": "stream",
          "text": [
            "2400/2400 [==============================] - 13s 5ms/step\n",
            "400/400 [==============================] - 2s 4ms/step\n",
            "Train Accuracy: 97.873, Test Accuracy: 97.750\n"
          ],
          "name": "stdout"
        }
      ]
    },
    {
      "cell_type": "markdown",
      "metadata": {
        "id": "YnjFrgkiihDz",
        "colab_type": "text"
      },
      "source": [
        "## Image gallery of 25 mis-classified images from the validation dataset"
      ]
    },
    {
      "cell_type": "code",
      "metadata": {
        "id": "fYT_8VerIYCz",
        "colab_type": "code",
        "colab": {
          "base_uri": "https://localhost:8080/",
          "height": 460
        },
        "outputId": "5592d3bd-a331-487b-ab4f-ff2ff4725d26"
      },
      "source": [
        "import matplotlib.cm as cm\n",
        "\n",
        "# convert one-hot encodings into labels\n",
        "def one_hot_to_dense(labels_one_hot):\n",
        "    return np.argmax(labels_one_hot,1)\n",
        "\n",
        "# test label  \n",
        "y_pred = model.predict(X_test)\n",
        "# print(y_pred[:10])\n",
        "# print(y_test[:10])\n",
        "\n",
        "y_valid_pred_label = one_hot_to_dense(y_pred)\n",
        "y_valid_label = one_hot_to_dense(Y_test)\n",
        "y_val_false_index = []\n",
        "\n",
        "for i in range(y_valid_label.shape[0]):\n",
        "    if y_valid_pred_label[i] != y_valid_label[i]:\n",
        "        y_val_false_index.append(i)\n",
        "\n",
        "print('## Total false predictions: ', len(y_val_false_index),'out of', len(Y_test))\n",
        "\n",
        "plt.figure(figsize=(10,15))\n",
        "\n",
        "for j in range(0,5):\n",
        "    for i in range(0,5):\n",
        "        if j*10+i<len(y_val_false_index):\n",
        "            plt.subplot(10,10,j*10+i+1)\n",
        "            plt.title('%d/%d'%(y_valid_label[y_val_false_index[j*10+i]],\n",
        "                               y_valid_pred_label[y_val_false_index[j*10+i]]))\n",
        "            plt.imshow(X_test[y_val_false_index[j*10+i]].reshape(28,28),cmap=cm.binary)   "
      ],
      "execution_count": 118,
      "outputs": [
        {
          "output_type": "stream",
          "text": [
            "## Total false predictions:  2552 out of 10000\n"
          ],
          "name": "stdout"
        },
        {
          "output_type": "display_data",
          "data": {
            "image/png": "[encoded data removed]",
            "text/plain": [
              "<Figure size 720x1080 with 25 Axes>"
            ]
          },
          "metadata": {
            "tags": []
          }
        }
      ]
    },
    {
      "cell_type": "markdown",
      "metadata": {
        "id": "Y2n97OrkLffn",
        "colab_type": "text"
      },
      "source": [
        "###Summary:\n",
        "\n",
        "> In this assignment we used image normalization techniques and developed a netwrok that had ReLU after Batch Normalization. The requirement of L2 regularization was to be done in the final loss function but this was not achevable in this assignment and hence  L2 regularization was done at each layer.\n",
        "\n",
        "> ModelCheckpoint was used  to save model that had best validation accuracy. Also in the final section image gallery was implemented to display 25 mis-classified images from the validation dataset.\n",
        "\n",
        "\n",
        "###Thank you!"
      ]
    },
    {
      "cell_type": "markdown",
      "metadata": {
        "id": "VMwxHoZOVcXq",
        "colab_type": "text"
      },
      "source": [
        "Reference:\n",
        "\n",
        "1. [Kaggle: MNIST Image Classification](https://www.kaggle.com/raoulma/mnist-image-class-tensorflow-cnn-99-51-test-acc)\n",
        "2. [An Overview of Regularization Techniques in Deep Learning ](https://www.analyticsvidhya.com/blog/2018/04/fundamentals-deep-learning-regularization-techniques/)\n",
        "3. [How to Normalize, Center, and Standardize Images With the ImageDataGenerator in Keras](https://machinelearningmastery.com/how-to-normalize-center-and-standardize-images-with-the-imagedatagenerator-in-keras/)\n",
        "4. [Differences between L1 and L2 as Loss Function and Regularization](http://www.chioka.in/differences-between-l1-and-l2-as-loss-function-and-regularization/)\n",
        "5. [L1 and L2 Regularization](https://medium.com/datadriveninvestor/l1-l2-regularization-7f1b4fe948f2)\n"
      ]
    }
  ]
}